{
 "cells": [
  {
   "cell_type": "markdown",
   "source": [
    "# GCAM Annual Meeting 2023 Tutorial\n",
    "\n",
    "The purpose of this tutorial is to demonstrate how `stitches` can be used as an emulator. While `stitches` can\n",
    " emulate a number of CMIP6 models this example will focus on emulating CanESM5 SSP245 results.\n",
    "\n",
    "To use `stitches`, there are a number of decisions users have to make,\n",
    "perhaps the most important being:\n",
    "\n",
    "* Which ESM will `stitches` emulate?\n",
    "* What archive data will be used? These are values that the target data will be matched to. It should only\n",
    "contain data for the specific ESM that is being emulated. Users may limit the number of experiments or\n",
    "ensemble realizations within the archive in order to achieve their specific experimental setup.\n",
    "* What target data will be used? This data frame represents the temperature pathway the stitched product\n",
    "will follow. The contents of this data frame may come from CMIP6 ESM results for an SSP or it may follow\n",
    "some arbitrary pathway.\n",
    "\n",
    "A diagram illustrating the `stitches` process is included for reference:\n",
    "\n",
    "![stitches workflow](figs/stitches_diagram.jpg)\n",
    "\n",
    "- `stitches` defaults to $X=9$ year windows.\n"
   ],
   "metadata": {
    "collapsed": false
   }
  },
  {
   "cell_type": "markdown",
   "source": [
    "## Getting Started\n"
   ],
   "metadata": {
    "collapsed": false
   }
  },
  {
   "cell_type": "code",
   "execution_count": null,
   "outputs": [],
   "source": [
    "import stitches\n"
   ],
   "metadata": {
    "collapsed": false,
    "pycharm": {
     "name": "#%%\n",
     "is_executing": true
    }
   }
  },
  {
   "cell_type": "markdown",
   "source": [
    "Load the additional python libraries that will be used in this example.  These packages are installed as `stitches` dependencies."
   ],
   "metadata": {
    "collapsed": false
   }
  },
  {
   "cell_type": "code",
   "execution_count": null,
   "outputs": [],
   "source": [
    "import os\n",
    "import pkg_resources\n",
    "import warnings\n",
    "\n",
    "import numpy as np\n",
    "import pandas as pd\n",
    "from matplotlib import pyplot as plt\n",
    "\n",
    "\n",
    "\n",
    "# For help with plotting\n",
    "%matplotlib inline\n",
    "%config InlineBackend.figure_format = 'retina'\n",
    "plt.rcParams['figure.figsize'] = 12, 6\n"
   ],
   "metadata": {
    "collapsed": false,
    "pycharm": {
     "name": "#%%\n"
    }
   }
  },
  {
   "cell_type": "markdown",
   "source": [
    "## Install the package data from Zenodo\n",
    "\n",
    "The package data is all data that has been processed from raw Pangeo data\n",
    " and is generated with package functions. For convenience and rapid cloning\n",
    " of the github repository, the package data is also minted on Zenodo and\n",
    " can be quickly downloaded for using the package.\n",
    " "
   ],
   "metadata": {
    "collapsed": false
   }
  },
  {
   "cell_type": "code",
   "execution_count": null,
   "outputs": [],
   "source": [
    "# stitches.install_package_data()"
   ],
   "metadata": {
    "collapsed": false,
    "pycharm": {
     "name": "#%%\n"
    }
   }
  },
  {
   "cell_type": "markdown",
   "source": [
    "# Example Set Up\n",
    "\n",
    "In this example, we will use `stitches` to emulate CanESM5 SSP245 results.\n",
    "Then we will compare the `stitches` results with actual CMIP6 CanESM5 SSP245\n",
    "output data. This is our _Target Data_.\n",
    "\n",
    "For CMIP6 results, Earth system model data runs from 1850-2100 (or 2099,\n",
    "depending on the ESM). This tutorial will focus on emulating that entire period.\n",
    "\n",
    "#### Decide on the target data\n",
    "- The primary input to `stitches` functions that most users will adjust is the\n",
    "target data.\n",
    "\n",
    "- The target data is the temperature pathway the stitched (emulated) product\n",
    "will follow. This data can come from an ESM or another class of climate models,\n",
    "for a specific SSP scenario or an arbitrarily defined scenario. Similarly to the archive\n",
    "data, the target data should contain the mean temperature anomaly and rate of\n",
    "temperature change over a window of time.\n",
    "\n",
    "- The target data window and the archive window must be the same length,\n",
    "`stitches` uses a 9-year window by default.  `stitches` includes functions for\n",
    "processing raw ESM  Tgav data into the structure it needs for matching.\n",
    "- In this example, we will use CanESM5 SSP245 results for a single ensemble\n",
    "member to use as our target data."
   ],
   "metadata": {
    "collapsed": false
   }
  },
  {
   "cell_type": "code",
   "execution_count": 1,
   "outputs": [
    {
     "ename": "NameError",
     "evalue": "name 'pd' is not defined",
     "output_type": "error",
     "traceback": [
      "\u001B[0;31m---------------------------------------------------------------------------\u001B[0m",
      "\u001B[0;31mNameError\u001B[0m                                 Traceback (most recent call last)",
      "Input \u001B[0;32mIn [1]\u001B[0m, in \u001B[0;36m<cell line: 2>\u001B[0;34m()\u001B[0m\n\u001B[1;32m      1\u001B[0m \u001B[38;5;66;03m# Load time series and subset to target time series if needed:\u001B[39;00m\n\u001B[0;32m----> 2\u001B[0m targ \u001B[38;5;241m=\u001B[39m \u001B[43mpd\u001B[49m\u001B[38;5;241m.\u001B[39mread_csv(os\u001B[38;5;241m.\u001B[39mpath\u001B[38;5;241m.\u001B[39mjoin(data_directory, \u001B[38;5;124m\"\u001B[39m\u001B[38;5;124mtas-data\u001B[39m\u001B[38;5;124m\"\u001B[39m, \u001B[38;5;124m\"\u001B[39m\u001B[38;5;124mCanESM5_tas.csv\u001B[39m\u001B[38;5;124m\"\u001B[39m))\n\u001B[1;32m      3\u001B[0m target_data \u001B[38;5;241m=\u001B[39m targ\u001B[38;5;241m.\u001B[39mloc[(targ[\u001B[38;5;124m\"\u001B[39m\u001B[38;5;124mmodel\u001B[39m\u001B[38;5;124m\"\u001B[39m] \u001B[38;5;241m==\u001B[39m \u001B[38;5;124m\"\u001B[39m\u001B[38;5;124mCanESM5\u001B[39m\u001B[38;5;124m\"\u001B[39m)\n\u001B[1;32m      4\u001B[0m                        \u001B[38;5;241m&\u001B[39m (targ[\u001B[38;5;124m\"\u001B[39m\u001B[38;5;124mexperiment\u001B[39m\u001B[38;5;124m\"\u001B[39m] \u001B[38;5;241m==\u001B[39m \u001B[38;5;124m'\u001B[39m\u001B[38;5;124mssp245\u001B[39m\u001B[38;5;124m'\u001B[39m)]\u001B[38;5;241m.\u001B[39mcopy()\n\u001B[1;32m      6\u001B[0m target_data  \u001B[38;5;241m=\u001B[39m target_data[target_data[\u001B[38;5;124m\"\u001B[39m\u001B[38;5;124mensemble\u001B[39m\u001B[38;5;124m\"\u001B[39m]\u001B[38;5;241m.\u001B[39misin([\u001B[38;5;124m'\u001B[39m\u001B[38;5;124mr1i1p1f1\u001B[39m\u001B[38;5;124m'\u001B[39m])]\u001B[38;5;241m.\u001B[39mcopy()\n",
      "\u001B[0;31mNameError\u001B[0m: name 'pd' is not defined"
     ]
    }
   ],
   "source": [
    "# Load time series and subset to target time series if needed:\n",
    "targ = pd.read_csv(os.path.join(data_directory, \"tas-data\", \"CanESM5_tas.csv\"))\n",
    "target_data = targ.loc[(targ[\"model\"] == \"CanESM5\")\n",
    "                       & (targ[\"experiment\"] == 'ssp245')].copy()\n",
    "\n",
    "target_data  = target_data[target_data[\"ensemble\"].isin(['r1i1p1f1'])].copy()\n",
    "\n",
    "target_data = target_data.drop(columns='zstore').reset_index(drop=True)\n"
   ],
   "metadata": {
    "collapsed": false,
    "pycharm": {
     "name": "#%%\n"
    }
   }
  },
  {
   "cell_type": "markdown",
   "source": [
    "Take a look at the structure and a plot of the time series we will be targeting:"
   ],
   "metadata": {
    "collapsed": false
   }
  },
  {
   "cell_type": "code",
   "execution_count": null,
   "outputs": [],
   "source": [
    "print(target_data.head())\n",
    "target_data.plot(x='year', y='global average temperature anomaly from 1995-2014 average')\n",
    "plt.show()\n",
    "plt.close()\n"
   ],
   "metadata": {
    "collapsed": false,
    "pycharm": {
     "name": "#%%\n"
    }
   }
  },
  {
   "cell_type": "markdown",
   "source": [
    "- Any time series of global average temperature anomalies can be used as a\n",
    "target. However, the data frame containing this time series must be structured as\n",
    "above: a `variable` column containing entries of 'tas',  `year` and `value`\n",
    "columns containing the data, and `experiment`, `ensemble`, `model` columns\n",
    "with identifying information of the source of this target data.\n",
    "- The actual entries in the `experiment`, `ensemble`, `model` columns are only\n",
    "used for generating identifying strings for generated ensemble members.\n",
    "\n",
    "- Finally, the\n",
    "\n",
    "\n",
    "- In this demonstration, we will specifically be targeting ensemble member 1\n",
    "of the CanESM5 SSP245 simulations. The entire SSP245 ensemble may be\n",
    "jointly targeted by omitting the line\n",
    "`target_data  = target_data[target_data[\"ensemble\"].isin(['r1i1p1f1'])].copy()`"
   ],
   "metadata": {
    "collapsed": false
   }
  },
  {
   "cell_type": "code",
   "execution_count": null,
   "outputs": [],
   "source": [
    "#### Decide on the archive data\n",
    "\n",
    "- Limit the archive matching data to the model we are trying to emulate, CanESM5\n",
    "in this case.\n",
    "- In this example, we treat SSP245 as a novel scenario rather than one\n",
    "run by the ESM and available, so we exclude it from the archive data.\n",
    "- The internal package data called `matching_archive` contains the temperature\n",
    "results for all the ESMs-Scenarios-ensemble members that are available for\n",
    "`stitches` to use in its matching process. In this file monthly, tas output has\n",
    "been processed to mean temperature anomaly and the temperature change over a\n",
    "window of time. By default `stitches` uses a 9-year window.\n",
    "\n",
    "- `stitches` actually provides two files in its pacakge data.\n",
    "- `matching_archive.csv` can be considered the default (for now). It takes"
   ],
   "metadata": {
    "collapsed": false,
    "pycharm": {
     "name": "#%%md\n"
    }
   }
  },
  {
   "cell_type": "code",
   "execution_count": null,
   "outputs": [],
   "source": [
    "# read in the package data of all ESMs-Scenarios-ensemble members avail.\n",
    "data_directory = pkg_resources.resource_filename('stitches', \"data\")\n",
    "path = os.path.join(data_directory, 'matching_archive_staggered.csv')\n",
    "data = pd.read_csv(path)\n"
   ],
   "metadata": {
    "collapsed": false,
    "pycharm": {
     "name": "#%%\n"
    }
   }
  },
  {
   "cell_type": "markdown",
   "source": [
    "Let's start from the final ESM year, 2100 for CanESM5, and prioritize getting that\n",
    "as a full 9 year window. Short windows can be on the front end.\n",
    "\n",
    "- if the final year for an ESM is 2099, you'd just do\n",
    "`end_yr_vector = end_yr_vector-1` to shift everything up a year."
   ],
   "metadata": {
    "collapsed": false,
    "pycharm": {
     "name": "#%% md\n"
    }
   }
  },
  {
   "cell_type": "code",
   "execution_count": 30,
   "outputs": [
    {
     "name": "stdout",
     "output_type": "stream",
     "text": [
      "     experiment variable    model   ensemble  start_yr  end_yr  year  \\\n",
      "0        ssp126      tas  CanESM5  r10i1p1f1      1858    1866  1862   \n",
      "1        ssp126      tas  CanESM5  r10i1p1f1      1867    1875  1871   \n",
      "2        ssp126      tas  CanESM5  r10i1p1f1      1876    1884  1880   \n",
      "3        ssp126      tas  CanESM5  r10i1p1f1      1885    1893  1889   \n",
      "4        ssp126      tas  CanESM5  r10i1p1f1      1894    1902  1898   \n",
      "...         ...      ...      ...        ...       ...     ...   ...   \n",
      "2020     ssp585      tas  CanESM5   r9i1p1f1      2056    2064  2060   \n",
      "2021     ssp585      tas  CanESM5   r9i1p1f1      2065    2073  2069   \n",
      "2022     ssp585      tas  CanESM5   r9i1p1f1      2074    2082  2078   \n",
      "2023     ssp585      tas  CanESM5   r9i1p1f1      2083    2091  2087   \n",
      "2024     ssp585      tas  CanESM5   r9i1p1f1      2092    2100  2096   \n",
      "\n",
      "            fx        dx  \n",
      "0    -1.299509 -0.001848  \n",
      "1    -1.225040  0.010931  \n",
      "2    -1.205325 -0.012385  \n",
      "3    -1.299790  0.004692  \n",
      "4    -1.219588  0.003027  \n",
      "...        ...       ...  \n",
      "2020  3.250968  0.080163  \n",
      "2021  4.020579  0.088755  \n",
      "2022  4.731989  0.076436  \n",
      "2023  5.508628  0.089533  \n",
      "2024  6.249420  0.058199  \n",
      "\n",
      "[2025 rows x 9 columns]\n"
     ]
    }
   ],
   "source": [
    "staggered_archive = data.copy()\n",
    "\n",
    "end_yr_vector = [1857, 1866, 1875,1884, 1893,\n",
    "                 1902, 1911, 1920, 1929, 1938, 1947,\n",
    "                 1956,  1965, 1974, 1983, 1992, 2001,\n",
    "                 2010, 2019, 2028, 2037, 2046, 2055,\n",
    "                 2064, 2073, 2082, 2091, 2100]\n",
    "\n",
    "tmp = staggered_archive.loc[(data[\"experiment\"].isin(['ssp126', 'ssp370', 'ssp585']))\n",
    "                       & (data[\"model\"] == \"CanESM5\")].copy()\n",
    "archive_data = stitches.fx_processing.subset_archive(staggered_archive = tmp,\n",
    "                                            end_yr_vector = end_yr_vector)\n",
    "\n",
    "print(archive_data)"
   ],
   "metadata": {
    "collapsed": false,
    "pycharm": {
     "name": "#%%\n"
    }
   }
  },
  {
   "cell_type": "markdown",
   "source": [
    "The staggered archive ONLY has 9 year windows, no short windows. So no window\n",
    "from 1850-1857 exists to get pulled for that `end_yr`. That's fine because  the\n",
    "historical period is so consistent, there are plenty of other full sized (9year)\n",
    "windows that have similar properties and can make for a good match, so we aren't\n",
    "really losing anything by not having archive points representing 1850-1857.\n",
    "If we really want, we can go ahead and have an 1850-1858 window in the archive\n",
    "by just replacing 1857 with 1858 in the above. There will be on year (1858) in\n",
    "common between that new window and the one ending in 1866 but that's not\n",
    "an amount of similarity that would lead to unrealistic behavior like if we used\n",
    "all of the entries in the staggered archive.\n",
    "\n",
    "And that would look like:"
   ],
   "metadata": {
    "collapsed": false
   }
  },
  {
   "cell_type": "code",
   "execution_count": 41,
   "outputs": [
    {
     "name": "stdout",
     "output_type": "stream",
     "text": [
      "     experiment variable    model   ensemble  start_yr  end_yr  year  \\\n",
      "0        ssp126      tas  CanESM5  r10i1p1f1      1850    1858  1854   \n",
      "75       ssp126      tas  CanESM5  r10i1p1f1      1858    1866  1862   \n",
      "76       ssp126      tas  CanESM5  r10i1p1f1      1867    1875  1871   \n",
      "77       ssp126      tas  CanESM5  r10i1p1f1      1876    1884  1880   \n",
      "78       ssp126      tas  CanESM5  r10i1p1f1      1885    1893  1889   \n",
      "...         ...      ...      ...        ...       ...     ...   ...   \n",
      "2095     ssp585      tas  CanESM5   r9i1p1f1      2056    2064  2060   \n",
      "2096     ssp585      tas  CanESM5   r9i1p1f1      2065    2073  2069   \n",
      "2097     ssp585      tas  CanESM5   r9i1p1f1      2074    2082  2078   \n",
      "2098     ssp585      tas  CanESM5   r9i1p1f1      2083    2091  2087   \n",
      "2099     ssp585      tas  CanESM5   r9i1p1f1      2092    2100  2096   \n",
      "\n",
      "            fx        dx  \n",
      "0    -1.360399  0.016472  \n",
      "75   -1.299509 -0.001848  \n",
      "76   -1.225040  0.010931  \n",
      "77   -1.205325 -0.012385  \n",
      "78   -1.299790  0.004692  \n",
      "...        ...       ...  \n",
      "2095  3.250968  0.080163  \n",
      "2096  4.020579  0.088755  \n",
      "2097  4.731989  0.076436  \n",
      "2098  5.508628  0.089533  \n",
      "2099  6.249420  0.058199  \n",
      "\n",
      "[2100 rows x 9 columns]\n"
     ]
    }
   ],
   "source": [
    "end_yr2 = [1858, 1866, 1875,1884, 1893,\n",
    "           1902, 1911, 1920, 1929, 1938, 1947,\n",
    "           1956,  1965, 1974, 1983, 1992, 2001,\n",
    "           2010, 2019, 2028, 2037, 2046, 2055,\n",
    "           2064, 2073, 2082, 2091, 2100]\n",
    "x = stitches.fx_processing.subset_archive(staggered_archive = tmp,\n",
    "                                      end_yr_vector = end_yr2).sort_values(by=['experiment', 'ensemble', 'end_yr'])\n",
    "print(x)"
   ],
   "metadata": {
    "collapsed": false,
    "pycharm": {
     "name": "#%%\n"
    }
   }
  },
  {
   "cell_type": "markdown",
   "source": [
    "# Target\n",
    "It's easiest to just only have a target start in 1858 and go to 2100. For GCAM,\n",
    "that's fine. Mostly, 1975-2100 is the window you'd need covered for GCAM and\n",
    "that segments into 9 year chunks perfectly."
   ],
   "metadata": {
    "collapsed": false,
    "pycharm": {
     "name": "#%% md\n"
    }
   }
  },
  {
   "cell_type": "code",
   "execution_count": null,
   "outputs": [],
   "source": [
    "targ = pd.read_csv(os.path.join(data_directory, \"tas-data\", \"CanESM5_tas.csv\"))\n",
    "target_data = targ.loc[(targ[\"model\"] == \"CanESM5\")\n",
    "                       & (targ[\"experiment\"] == 'ssp245')].copy()\n",
    "\n",
    "target_data  = target_data[target_data[\"ensemble\"].isin(['r1i1p1f1'])].copy()\n",
    "\n",
    "target_data = target_data.drop(columns='zstore').reset_index(drop=True)\n",
    "\n",
    "\n",
    "target_data = stitches.fx_processing.calculate_rolling_mean(target_data,\n",
    "                                                            size=31).copy()"
   ],
   "metadata": {
    "collapsed": false,
    "pycharm": {
     "name": "#%%\n"
    }
   }
  },
  {
   "cell_type": "markdown",
   "source": [
    "The default chunking, starting with 1850 and cutting every 9 years after that.\n",
    "This results in the final window only being 8 years. That is fine, a target window\n",
    "that is only 1 year short is not a problem (shorter than that is also not a problem\n",
    "for the method, we just haven't coded that in)."
   ],
   "metadata": {
    "collapsed": false
   }
  },
  {
   "cell_type": "code",
   "execution_count": 42,
   "outputs": [
    {
     "name": "stdout",
     "output_type": "stream",
     "text": [
      "   experiment variable  ensemble    model  start_yr  end_yr  year        fx  \\\n",
      "0      ssp245      tas  r1i1p1f1  CanESM5      1850    1858  1854 -1.302066   \n",
      "1      ssp245      tas  r1i1p1f1  CanESM5      1859    1867  1863 -1.291443   \n",
      "2      ssp245      tas  r1i1p1f1  CanESM5      1868    1876  1872 -1.269637   \n",
      "3      ssp245      tas  r1i1p1f1  CanESM5      1877    1885  1881 -1.111034   \n",
      "4      ssp245      tas  r1i1p1f1  CanESM5      1886    1894  1890 -1.199870   \n",
      "5      ssp245      tas  r1i1p1f1  CanESM5      1895    1903  1899 -1.106199   \n",
      "6      ssp245      tas  r1i1p1f1  CanESM5      1904    1912  1908 -1.169673   \n",
      "7      ssp245      tas  r1i1p1f1  CanESM5      1913    1921  1917 -1.062645   \n",
      "8      ssp245      tas  r1i1p1f1  CanESM5      1922    1930  1926 -1.072645   \n",
      "9      ssp245      tas  r1i1p1f1  CanESM5      1931    1939  1935 -1.092245   \n",
      "10     ssp245      tas  r1i1p1f1  CanESM5      1940    1948  1944 -0.945868   \n",
      "11     ssp245      tas  r1i1p1f1  CanESM5      1949    1957  1953 -1.083041   \n",
      "12     ssp245      tas  r1i1p1f1  CanESM5      1958    1966  1962 -0.966081   \n",
      "13     ssp245      tas  r1i1p1f1  CanESM5      1967    1975  1971 -1.111314   \n",
      "14     ssp245      tas  r1i1p1f1  CanESM5      1976    1984  1980 -0.771969   \n",
      "15     ssp245      tas  r1i1p1f1  CanESM5      1985    1993  1989 -0.556920   \n",
      "16     ssp245      tas  r1i1p1f1  CanESM5      1994    2002  1998 -0.155362   \n",
      "17     ssp245      tas  r1i1p1f1  CanESM5      2003    2011  2007 -0.147414   \n",
      "18     ssp245      tas  r1i1p1f1  CanESM5      2012    2020  2016  0.344445   \n",
      "19     ssp245      tas  r1i1p1f1  CanESM5      2021    2029  2025  1.054909   \n",
      "20     ssp245      tas  r1i1p1f1  CanESM5      2030    2038  2034  1.340702   \n",
      "21     ssp245      tas  r1i1p1f1  CanESM5      2039    2047  2043  1.464619   \n",
      "22     ssp245      tas  r1i1p1f1  CanESM5      2048    2056  2052  2.007079   \n",
      "23     ssp245      tas  r1i1p1f1  CanESM5      2057    2065  2061  2.239862   \n",
      "24     ssp245      tas  r1i1p1f1  CanESM5      2066    2074  2070  2.441483   \n",
      "25     ssp245      tas  r1i1p1f1  CanESM5      2075    2083  2079  2.696083   \n",
      "26     ssp245      tas  r1i1p1f1  CanESM5      2084    2092  2088  3.010068   \n",
      "27     ssp245      tas  r1i1p1f1  CanESM5      2093    2100  2097  2.978037   \n",
      "\n",
      "          dx  \n",
      "0  -0.012081  \n",
      "1   0.010794  \n",
      "2   0.004272  \n",
      "3  -0.028548  \n",
      "4   0.014810  \n",
      "5  -0.014470  \n",
      "6   0.044033  \n",
      "7   0.037060  \n",
      "8   0.005614  \n",
      "9   0.015408  \n",
      "10  0.000189  \n",
      "11 -0.043168  \n",
      "12 -0.015939  \n",
      "13  0.033988  \n",
      "14  0.015274  \n",
      "15 -0.003927  \n",
      "16  0.066194  \n",
      "17  0.054732  \n",
      "18  0.042477  \n",
      "19  0.057991  \n",
      "20  0.043735  \n",
      "21  0.027086  \n",
      "22  0.042304  \n",
      "23  0.002734  \n",
      "24  0.042144  \n",
      "25  0.016573  \n",
      "26  0.008017  \n",
      "27  0.026440  \n"
     ]
    }
   ],
   "source": [
    "target_data1 = stitches.fx_processing.get_chunk_info(\n",
    "    stitches.fx_processing.chunk_ts(df = target_data,  n=9)).copy()\n",
    "print(target_data1)"
   ],
   "metadata": {
    "collapsed": false,
    "pycharm": {
     "name": "#%%\n"
    }
   }
  },
  {
   "cell_type": "markdown",
   "source": [
    "If you'd rather the target window ending in 2100 be a complete 9 years and work\n",
    "back, you can use the `base_chunk=8` argument to do that. The previous call starting\n",
    "in 1850 and cutting every 9 years aftere that uses the default `base_chunk=0`.\n",
    "`base_chunk=8` means the target starts in 1850+8 = 1858 and cuts every 9\n",
    "years after that, ending in 2100.\n",
    "\n",
    "If the ESM data ends in 2099 and you wanted the target window ending in 2099\n",
    "to be a complete 9 year window, you'd use `base_chunk=7`. It's a little clunky and\n",
    "we could certainly make it more interpretable/flexible, but it's not too bad to\n",
    "figure out for now."
   ],
   "metadata": {
    "collapsed": false
   }
  },
  {
   "cell_type": "code",
   "execution_count": 43,
   "outputs": [
    {
     "name": "stdout",
     "output_type": "stream",
     "text": [
      "   experiment variable  ensemble    model  start_yr  end_yr  year        fx  \\\n",
      "0      ssp245      tas  r1i1p1f1  CanESM5      1858    1866  1862 -1.431094   \n",
      "1      ssp245      tas  r1i1p1f1  CanESM5      1867    1875  1871 -1.250314   \n",
      "2      ssp245      tas  r1i1p1f1  CanESM5      1876    1884  1880 -1.096694   \n",
      "3      ssp245      tas  r1i1p1f1  CanESM5      1885    1893  1889 -1.120996   \n",
      "4      ssp245      tas  r1i1p1f1  CanESM5      1894    1902  1898 -1.169627   \n",
      "5      ssp245      tas  r1i1p1f1  CanESM5      1903    1911  1907 -1.206883   \n",
      "6      ssp245      tas  r1i1p1f1  CanESM5      1912    1920  1916 -1.179884   \n",
      "7      ssp245      tas  r1i1p1f1  CanESM5      1921    1929  1925 -0.879245   \n",
      "8      ssp245      tas  r1i1p1f1  CanESM5      1930    1938  1934 -1.061302   \n",
      "9      ssp245      tas  r1i1p1f1  CanESM5      1939    1947  1943 -0.996936   \n",
      "10     ssp245      tas  r1i1p1f1  CanESM5      1948    1956  1952 -0.894393   \n",
      "11     ssp245      tas  r1i1p1f1  CanESM5      1957    1965  1961 -0.695729   \n",
      "12     ssp245      tas  r1i1p1f1  CanESM5      1966    1974  1970 -1.087742   \n",
      "13     ssp245      tas  r1i1p1f1  CanESM5      1975    1983  1979 -0.869167   \n",
      "14     ssp245      tas  r1i1p1f1  CanESM5      1984    1992  1988 -0.470544   \n",
      "15     ssp245      tas  r1i1p1f1  CanESM5      1993    2001  1997 -0.251139   \n",
      "16     ssp245      tas  r1i1p1f1  CanESM5      2002    2010  2006 -0.194601   \n",
      "17     ssp245      tas  r1i1p1f1  CanESM5      2011    2019  2015  0.313075   \n",
      "18     ssp245      tas  r1i1p1f1  CanESM5      2020    2028  2024  0.819054   \n",
      "19     ssp245      tas  r1i1p1f1  CanESM5      2029    2037  2033  1.134739   \n",
      "20     ssp245      tas  r1i1p1f1  CanESM5      2038    2046  2042  1.675312   \n",
      "21     ssp245      tas  r1i1p1f1  CanESM5      2047    2055  2051  1.894868   \n",
      "22     ssp245      tas  r1i1p1f1  CanESM5      2056    2064  2060  2.354340   \n",
      "23     ssp245      tas  r1i1p1f1  CanESM5      2065    2073  2069  2.457808   \n",
      "24     ssp245      tas  r1i1p1f1  CanESM5      2074    2082  2078  2.660978   \n",
      "25     ssp245      tas  r1i1p1f1  CanESM5      2083    2091  2087  3.040578   \n",
      "26     ssp245      tas  r1i1p1f1  CanESM5      2092    2100  2096  2.966186   \n",
      "\n",
      "          dx  \n",
      "0  -0.003602  \n",
      "1  -0.015678  \n",
      "2  -0.019659  \n",
      "3   0.017275  \n",
      "4   0.001455  \n",
      "5   0.042445  \n",
      "6   0.024553  \n",
      "7   0.008108  \n",
      "8   0.006875  \n",
      "9  -0.005085  \n",
      "10 -0.042914  \n",
      "11 -0.015707  \n",
      "12  0.012931  \n",
      "13  0.019572  \n",
      "14  0.021749  \n",
      "15  0.088053  \n",
      "16  0.039233  \n",
      "17  0.022383  \n",
      "18  0.070399  \n",
      "19  0.052306  \n",
      "20  0.039914  \n",
      "21  0.032470  \n",
      "22  0.007519  \n",
      "23  0.044170  \n",
      "24  0.008407  \n",
      "25  0.018431  \n",
      "26  0.021442  \n"
     ]
    }
   ],
   "source": [
    "target_data2 = stitches.fx_processing.get_chunk_info(\n",
    "    stitches.fx_processing.chunk_ts(df = target_data,  n=9,\n",
    "                                    base_chunk=8)).copy()\n",
    "print(target_data2)"
   ],
   "metadata": {
    "collapsed": false,
    "pycharm": {
     "name": "#%%\n"
    }
   }
  },
  {
   "cell_type": "markdown",
   "source": [
    "if you really don't want to sacrifice the 1850-1857 years, you can get\n",
    "kind of clunky and play around with the `chunk_ts` arguments to get an\n",
    "1850-1857 chunk and just append that to the target data"
   ],
   "metadata": {
    "collapsed": false,
    "pycharm": {
     "name": "#%% md\n"
    }
   }
  },
  {
   "cell_type": "code",
   "execution_count": 51,
   "outputs": [
    {
     "name": "stdout",
     "output_type": "stream",
     "text": [
      "  experiment variable  ensemble    model  start_yr  end_yr  year        fx  \\\n",
      "0     ssp245      tas  r1i1p1f1  CanESM5      1850    1857  1854 -1.302066   \n",
      "\n",
      "         dx  \n",
      "0 -0.012558  \n"
     ]
    }
   ],
   "source": [
    "short_target_window = stitches.fx_processing.get_chunk_info(\n",
    "    stitches.fx_processing.chunk_ts(df = target_data,  n=8,\n",
    "                                    base_chunk=0)).copy()\n",
    "\n",
    "short_target_window = short_target_window[short_target_window['end_yr'] == 1857].copy()\n",
    "\n",
    "print(short_target_window)"
   ],
   "metadata": {
    "collapsed": false,
    "pycharm": {
     "name": "#%%\n"
    }
   }
  },
  {
   "cell_type": "code",
   "execution_count": 53,
   "outputs": [
    {
     "name": "stdout",
     "output_type": "stream",
     "text": [
      "   experiment variable  ensemble    model  start_yr  end_yr  year        fx  \\\n",
      "0      ssp245      tas  r1i1p1f1  CanESM5      1850    1857  1854 -1.302066   \n",
      "0      ssp245      tas  r1i1p1f1  CanESM5      1858    1866  1862 -1.431094   \n",
      "1      ssp245      tas  r1i1p1f1  CanESM5      1867    1875  1871 -1.250314   \n",
      "2      ssp245      tas  r1i1p1f1  CanESM5      1876    1884  1880 -1.096694   \n",
      "3      ssp245      tas  r1i1p1f1  CanESM5      1885    1893  1889 -1.120996   \n",
      "4      ssp245      tas  r1i1p1f1  CanESM5      1894    1902  1898 -1.169627   \n",
      "5      ssp245      tas  r1i1p1f1  CanESM5      1903    1911  1907 -1.206883   \n",
      "6      ssp245      tas  r1i1p1f1  CanESM5      1912    1920  1916 -1.179884   \n",
      "7      ssp245      tas  r1i1p1f1  CanESM5      1921    1929  1925 -0.879245   \n",
      "8      ssp245      tas  r1i1p1f1  CanESM5      1930    1938  1934 -1.061302   \n",
      "9      ssp245      tas  r1i1p1f1  CanESM5      1939    1947  1943 -0.996936   \n",
      "10     ssp245      tas  r1i1p1f1  CanESM5      1948    1956  1952 -0.894393   \n",
      "11     ssp245      tas  r1i1p1f1  CanESM5      1957    1965  1961 -0.695729   \n",
      "12     ssp245      tas  r1i1p1f1  CanESM5      1966    1974  1970 -1.087742   \n",
      "13     ssp245      tas  r1i1p1f1  CanESM5      1975    1983  1979 -0.869167   \n",
      "14     ssp245      tas  r1i1p1f1  CanESM5      1984    1992  1988 -0.470544   \n",
      "15     ssp245      tas  r1i1p1f1  CanESM5      1993    2001  1997 -0.251139   \n",
      "16     ssp245      tas  r1i1p1f1  CanESM5      2002    2010  2006 -0.194601   \n",
      "17     ssp245      tas  r1i1p1f1  CanESM5      2011    2019  2015  0.313075   \n",
      "18     ssp245      tas  r1i1p1f1  CanESM5      2020    2028  2024  0.819054   \n",
      "19     ssp245      tas  r1i1p1f1  CanESM5      2029    2037  2033  1.134739   \n",
      "20     ssp245      tas  r1i1p1f1  CanESM5      2038    2046  2042  1.675312   \n",
      "21     ssp245      tas  r1i1p1f1  CanESM5      2047    2055  2051  1.894868   \n",
      "22     ssp245      tas  r1i1p1f1  CanESM5      2056    2064  2060  2.354340   \n",
      "23     ssp245      tas  r1i1p1f1  CanESM5      2065    2073  2069  2.457808   \n",
      "24     ssp245      tas  r1i1p1f1  CanESM5      2074    2082  2078  2.660978   \n",
      "25     ssp245      tas  r1i1p1f1  CanESM5      2083    2091  2087  3.040578   \n",
      "26     ssp245      tas  r1i1p1f1  CanESM5      2092    2100  2096  2.966186   \n",
      "\n",
      "          dx  \n",
      "0  -0.012558  \n",
      "0  -0.003602  \n",
      "1  -0.015678  \n",
      "2  -0.019659  \n",
      "3   0.017275  \n",
      "4   0.001455  \n",
      "5   0.042445  \n",
      "6   0.024553  \n",
      "7   0.008108  \n",
      "8   0.006875  \n",
      "9  -0.005085  \n",
      "10 -0.042914  \n",
      "11 -0.015707  \n",
      "12  0.012931  \n",
      "13  0.019572  \n",
      "14  0.021749  \n",
      "15  0.088053  \n",
      "16  0.039233  \n",
      "17  0.022383  \n",
      "18  0.070399  \n",
      "19  0.052306  \n",
      "20  0.039914  \n",
      "21  0.032470  \n",
      "22  0.007519  \n",
      "23  0.044170  \n",
      "24  0.008407  \n",
      "25  0.018431  \n",
      "26  0.021442  \n"
     ]
    }
   ],
   "source": [
    "target_data3 = pd.concat([short_target_window, target_data2])\n",
    "print(target_data3)\n"
   ],
   "metadata": {
    "collapsed": false,
    "pycharm": {
     "name": "#%%\n"
    }
   }
  },
  {
   "cell_type": "markdown",
   "source": [],
   "metadata": {
    "collapsed": false,
    "pycharm": {
     "name": "#%% md\n"
    }
   }
  }
 ],
 "metadata": {
  "kernelspec": {
   "name": "pycharm-58c3bd78",
   "language": "python",
   "display_name": "PyCharm (python_curation)"
  },
  "language_info": {
   "codemirror_mode": {
    "name": "ipython",
    "version": 3
   },
   "file_extension": ".py",
   "mimetype": "text/x-python",
   "name": "python",
   "nbconvert_exporter": "python",
   "pygments_lexer": "ipython3",
   "version": "3.9.4"
  }
 },
 "nbformat": 4,
 "nbformat_minor": 4
}