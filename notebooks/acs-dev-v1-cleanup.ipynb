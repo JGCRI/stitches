{
 "cells": [
  {
   "cell_type": "markdown",
   "metadata": {
    "collapsed": true,
    "pycharm": {
     "name": "#%% md\n"
    }
   },
   "source": [
    "# make sure python version and updated requirements still  behave\n",
    "\n",
    "first in terminal in the root directory this notebook is in (eg /Users/snyd535/Documents/GitHub/stitches,\n",
    "automatically there via terminal in pycharm), do\n",
    "`python setup.py install`"
   ]
  },
  {
   "cell_type": "code",
   "execution_count": 1,
   "outputs": [],
   "source": [
    "import pandas as pd\n",
    "import pkg_resources\n",
    "import stitches as stitches\n",
    "import xarray as xr"
   ],
   "metadata": {
    "collapsed": false,
    "pycharm": {
     "name": "#%%\n"
    }
   }
  },
  {
   "cell_type": "code",
   "execution_count": 2,
   "outputs": [
    {
     "data": {
      "text/plain": "       activity_id       institution_id      source_id       experiment_id  \\\n0       HighResMIP                 CMCC   CMCC-CM2-HR4  highresSST-present   \n1       HighResMIP                 CMCC   CMCC-CM2-HR4  highresSST-present   \n2       HighResMIP                 CMCC   CMCC-CM2-HR4  highresSST-present   \n3       HighResMIP                 CMCC   CMCC-CM2-HR4  highresSST-present   \n4       HighResMIP                 CMCC   CMCC-CM2-HR4  highresSST-present   \n...            ...                  ...            ...                 ...   \n514813        CMIP  EC-Earth-Consortium  EC-Earth3-Veg          historical   \n514814        CMIP  EC-Earth-Consortium  EC-Earth3-Veg          historical   \n514815        CMIP  EC-Earth-Consortium  EC-Earth3-Veg          historical   \n514816        CMIP  EC-Earth-Consortium  EC-Earth3-Veg          historical   \n514817        CMIP  EC-Earth-Consortium  EC-Earth3-Veg          historical   \n\n       member_id table_id variable_id grid_label  \\\n0       r1i1p1f1     Amon          ps         gn   \n1       r1i1p1f1     Amon        rsds         gn   \n2       r1i1p1f1     Amon        rlus         gn   \n3       r1i1p1f1     Amon        rlds         gn   \n4       r1i1p1f1     Amon         psl         gn   \n...          ...      ...         ...        ...   \n514813  r1i1p1f1     Amon         tas         gr   \n514814  r1i1p1f1     Amon        tauu         gr   \n514815  r1i1p1f1     Amon         hur         gr   \n514816  r1i1p1f1     Amon         hus         gr   \n514817  r1i1p1f1     Amon        tauv         gr   \n\n                                                   zstore  dcpp_init_year  \\\n0       gs://cmip6/CMIP6/HighResMIP/CMCC/CMCC-CM2-HR4/...             NaN   \n1       gs://cmip6/CMIP6/HighResMIP/CMCC/CMCC-CM2-HR4/...             NaN   \n2       gs://cmip6/CMIP6/HighResMIP/CMCC/CMCC-CM2-HR4/...             NaN   \n3       gs://cmip6/CMIP6/HighResMIP/CMCC/CMCC-CM2-HR4/...             NaN   \n4       gs://cmip6/CMIP6/HighResMIP/CMCC/CMCC-CM2-HR4/...             NaN   \n...                                                   ...             ...   \n514813  gs://cmip6/CMIP6/CMIP/EC-Earth-Consortium/EC-E...             NaN   \n514814  gs://cmip6/CMIP6/CMIP/EC-Earth-Consortium/EC-E...             NaN   \n514815  gs://cmip6/CMIP6/CMIP/EC-Earth-Consortium/EC-E...             NaN   \n514816  gs://cmip6/CMIP6/CMIP/EC-Earth-Consortium/EC-E...             NaN   \n514817  gs://cmip6/CMIP6/CMIP/EC-Earth-Consortium/EC-E...             NaN   \n\n         version  \n0       20170706  \n1       20170706  \n2       20170706  \n3       20170706  \n4       20170706  \n...          ...  \n514813  20211207  \n514814  20211207  \n514815  20211207  \n514816  20211207  \n514817  20211207  \n\n[514818 rows x 11 columns]",
      "text/html": "<div>\n<style scoped>\n    .dataframe tbody tr th:only-of-type {\n        vertical-align: middle;\n    }\n\n    .dataframe tbody tr th {\n        vertical-align: top;\n    }\n\n    .dataframe thead th {\n        text-align: right;\n    }\n</style>\n<table border=\"1\" class=\"dataframe\">\n  <thead>\n    <tr style=\"text-align: right;\">\n      <th></th>\n      <th>activity_id</th>\n      <th>institution_id</th>\n      <th>source_id</th>\n      <th>experiment_id</th>\n      <th>member_id</th>\n      <th>table_id</th>\n      <th>variable_id</th>\n      <th>grid_label</th>\n      <th>zstore</th>\n      <th>dcpp_init_year</th>\n      <th>version</th>\n    </tr>\n  </thead>\n  <tbody>\n    <tr>\n      <th>0</th>\n      <td>HighResMIP</td>\n      <td>CMCC</td>\n      <td>CMCC-CM2-HR4</td>\n      <td>highresSST-present</td>\n      <td>r1i1p1f1</td>\n      <td>Amon</td>\n      <td>ps</td>\n      <td>gn</td>\n      <td>gs://cmip6/CMIP6/HighResMIP/CMCC/CMCC-CM2-HR4/...</td>\n      <td>NaN</td>\n      <td>20170706</td>\n    </tr>\n    <tr>\n      <th>1</th>\n      <td>HighResMIP</td>\n      <td>CMCC</td>\n      <td>CMCC-CM2-HR4</td>\n      <td>highresSST-present</td>\n      <td>r1i1p1f1</td>\n      <td>Amon</td>\n      <td>rsds</td>\n      <td>gn</td>\n      <td>gs://cmip6/CMIP6/HighResMIP/CMCC/CMCC-CM2-HR4/...</td>\n      <td>NaN</td>\n      <td>20170706</td>\n    </tr>\n    <tr>\n      <th>2</th>\n      <td>HighResMIP</td>\n      <td>CMCC</td>\n      <td>CMCC-CM2-HR4</td>\n      <td>highresSST-present</td>\n      <td>r1i1p1f1</td>\n      <td>Amon</td>\n      <td>rlus</td>\n      <td>gn</td>\n      <td>gs://cmip6/CMIP6/HighResMIP/CMCC/CMCC-CM2-HR4/...</td>\n      <td>NaN</td>\n      <td>20170706</td>\n    </tr>\n    <tr>\n      <th>3</th>\n      <td>HighResMIP</td>\n      <td>CMCC</td>\n      <td>CMCC-CM2-HR4</td>\n      <td>highresSST-present</td>\n      <td>r1i1p1f1</td>\n      <td>Amon</td>\n      <td>rlds</td>\n      <td>gn</td>\n      <td>gs://cmip6/CMIP6/HighResMIP/CMCC/CMCC-CM2-HR4/...</td>\n      <td>NaN</td>\n      <td>20170706</td>\n    </tr>\n    <tr>\n      <th>4</th>\n      <td>HighResMIP</td>\n      <td>CMCC</td>\n      <td>CMCC-CM2-HR4</td>\n      <td>highresSST-present</td>\n      <td>r1i1p1f1</td>\n      <td>Amon</td>\n      <td>psl</td>\n      <td>gn</td>\n      <td>gs://cmip6/CMIP6/HighResMIP/CMCC/CMCC-CM2-HR4/...</td>\n      <td>NaN</td>\n      <td>20170706</td>\n    </tr>\n    <tr>\n      <th>...</th>\n      <td>...</td>\n      <td>...</td>\n      <td>...</td>\n      <td>...</td>\n      <td>...</td>\n      <td>...</td>\n      <td>...</td>\n      <td>...</td>\n      <td>...</td>\n      <td>...</td>\n      <td>...</td>\n    </tr>\n    <tr>\n      <th>514813</th>\n      <td>CMIP</td>\n      <td>EC-Earth-Consortium</td>\n      <td>EC-Earth3-Veg</td>\n      <td>historical</td>\n      <td>r1i1p1f1</td>\n      <td>Amon</td>\n      <td>tas</td>\n      <td>gr</td>\n      <td>gs://cmip6/CMIP6/CMIP/EC-Earth-Consortium/EC-E...</td>\n      <td>NaN</td>\n      <td>20211207</td>\n    </tr>\n    <tr>\n      <th>514814</th>\n      <td>CMIP</td>\n      <td>EC-Earth-Consortium</td>\n      <td>EC-Earth3-Veg</td>\n      <td>historical</td>\n      <td>r1i1p1f1</td>\n      <td>Amon</td>\n      <td>tauu</td>\n      <td>gr</td>\n      <td>gs://cmip6/CMIP6/CMIP/EC-Earth-Consortium/EC-E...</td>\n      <td>NaN</td>\n      <td>20211207</td>\n    </tr>\n    <tr>\n      <th>514815</th>\n      <td>CMIP</td>\n      <td>EC-Earth-Consortium</td>\n      <td>EC-Earth3-Veg</td>\n      <td>historical</td>\n      <td>r1i1p1f1</td>\n      <td>Amon</td>\n      <td>hur</td>\n      <td>gr</td>\n      <td>gs://cmip6/CMIP6/CMIP/EC-Earth-Consortium/EC-E...</td>\n      <td>NaN</td>\n      <td>20211207</td>\n    </tr>\n    <tr>\n      <th>514816</th>\n      <td>CMIP</td>\n      <td>EC-Earth-Consortium</td>\n      <td>EC-Earth3-Veg</td>\n      <td>historical</td>\n      <td>r1i1p1f1</td>\n      <td>Amon</td>\n      <td>hus</td>\n      <td>gr</td>\n      <td>gs://cmip6/CMIP6/CMIP/EC-Earth-Consortium/EC-E...</td>\n      <td>NaN</td>\n      <td>20211207</td>\n    </tr>\n    <tr>\n      <th>514817</th>\n      <td>CMIP</td>\n      <td>EC-Earth-Consortium</td>\n      <td>EC-Earth3-Veg</td>\n      <td>historical</td>\n      <td>r1i1p1f1</td>\n      <td>Amon</td>\n      <td>tauv</td>\n      <td>gr</td>\n      <td>gs://cmip6/CMIP6/CMIP/EC-Earth-Consortium/EC-E...</td>\n      <td>NaN</td>\n      <td>20211207</td>\n    </tr>\n  </tbody>\n</table>\n<p>514818 rows × 11 columns</p>\n</div>"
     },
     "execution_count": 2,
     "metadata": {},
     "output_type": "execute_result"
    }
   ],
   "source": [
    "x = stitches.fx_pangeo.fetch_pangeo_table()\n",
    "x"
   ],
   "metadata": {
    "collapsed": false,
    "pycharm": {
     "name": "#%%\n"
    }
   }
  }
 ],
 "metadata": {
  "kernelspec": {
   "display_name": "Python 3",
   "language": "python",
   "name": "python3"
  },
  "language_info": {
   "codemirror_mode": {
    "name": "ipython",
    "version": 2
   },
   "file_extension": ".py",
   "mimetype": "text/x-python",
   "name": "python",
   "nbconvert_exporter": "python",
   "pygments_lexer": "ipython2",
   "version": "2.7.6"
  }
 },
 "nbformat": 4,
 "nbformat_minor": 0
}