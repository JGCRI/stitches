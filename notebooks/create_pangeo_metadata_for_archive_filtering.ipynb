{
 "cells": [
  {
   "cell_type": "code",
   "execution_count": 1,
   "outputs": [
    {
     "name": "stderr",
     "output_type": "stream",
     "text": [
      "/Users/snyd535/Documents/task11a-topdown-clim-ML/stitches/stitches/pkgimports.py:8: TqdmExperimentalWarning: Using `tqdm.autonotebook.tqdm` in notebook mode. Use `tqdm.tqdm` instead to force console mode (e.g. in jupyter console)\n",
      "  from tqdm.autonotebook import tqdm\n"
     ]
    }
   ],
   "source": [
    "###############################################################################\n",
    "# Load all of the libraries\n",
    "###############################################################################\n",
    "import pandas as pd\n",
    "\n",
    "from stitches.pkgimports import *\n",
    "import stitches.readpangeo as read\n"
   ],
   "metadata": {
    "collapsed": false,
    "pycharm": {
     "name": "#%%\n"
    }
   }
  },
  {
   "cell_type": "code",
   "execution_count": 2,
   "outputs": [
    {
     "data": {
      "text/plain": "<IPython.core.display.HTML object>",
      "text/html": "<p><strong>pangeo-cmip6 catalog with 7403 dataset(s) from 501398 asset(s)</strong>:</p> <div>\n<style scoped>\n    .dataframe tbody tr th:only-of-type {\n        vertical-align: middle;\n    }\n\n    .dataframe tbody tr th {\n        vertical-align: top;\n    }\n\n    .dataframe thead th {\n        text-align: right;\n    }\n</style>\n<table border=\"1\" class=\"dataframe\">\n  <thead>\n    <tr style=\"text-align: right;\">\n      <th></th>\n      <th>unique</th>\n    </tr>\n  </thead>\n  <tbody>\n    <tr>\n      <th>activity_id</th>\n      <td>17</td>\n    </tr>\n    <tr>\n      <th>institution_id</th>\n      <td>36</td>\n    </tr>\n    <tr>\n      <th>source_id</th>\n      <td>86</td>\n    </tr>\n    <tr>\n      <th>experiment_id</th>\n      <td>168</td>\n    </tr>\n    <tr>\n      <th>member_id</th>\n      <td>650</td>\n    </tr>\n    <tr>\n      <th>table_id</th>\n      <td>37</td>\n    </tr>\n    <tr>\n      <th>variable_id</th>\n      <td>709</td>\n    </tr>\n    <tr>\n      <th>grid_label</th>\n      <td>10</td>\n    </tr>\n    <tr>\n      <th>zstore</th>\n      <td>501398</td>\n    </tr>\n    <tr>\n      <th>dcpp_init_year</th>\n      <td>60</td>\n    </tr>\n    <tr>\n      <th>version</th>\n      <td>658</td>\n    </tr>\n  </tbody>\n</table>\n</div>"
     },
     "metadata": {},
     "output_type": "display_data"
    }
   ],
   "source": [
    "###############################################################################\n",
    "# Let's take a look at what CMIP6 files are avaiable (it may take a few seconds to load)\n",
    "###############################################################################\n",
    "\n",
    "pangeo = intake.open_esm_datastore(\"https://storage.googleapis.com/cmip6/pangeo-cmip6.json\")\n",
    "pangeo\n"
   ],
   "metadata": {
    "collapsed": false,
    "pycharm": {
     "name": "#%%\n"
    }
   }
  },
  {
   "cell_type": "code",
   "execution_count": 3,
   "outputs": [
    {
     "name": "stdout",
     "output_type": "stream",
     "text": [
      "Models to process\n",
      "['CanESM5' 'IPSL-CM6A-LR' 'CNRM-ESM2-1' 'EC-Earth3' 'UKESM1-0-LL'\n",
      " 'EC-Earth3-Veg' 'MIROC6' 'ACCESS-ESM1-5' 'CNRM-CM6-1' 'MPI-ESM1-2-LR'\n",
      " 'MPI-ESM1-2-HR' 'NorCPM1']\n"
     ]
    }
   ],
   "source": [
    "###############################################################################\n",
    "# Get a first cut list of models for proof of concept.\n",
    "# Only take models that have daily data; if they have daily, they almost\n",
    "# certainly have monthly. Daily netcdfs are less commonly submitted, so doing\n",
    "# the search on only daily will probably return fewer models for our proof of\n",
    "# concept + then we # can validate on both monthly and daily data.\n",
    "###############################################################################\n",
    "\n",
    "# define experiments of interest\n",
    "expts = ['ssp126', 'ssp245', 'ssp370', 'ssp585', 'ssp119', 'ssp434',\n",
    "         'ssp460', 'ssp534-over', \"historical\"]\n",
    "\n",
    "table_ids = ['day']\n",
    "\n",
    "count_table = read.create_preliminary_model_list(pangeo,\n",
    "                                                 experiments=expts,\n",
    "                                                 table_ids=table_ids,\n",
    "                                                 min_ensemble_size=5)\n",
    "\n",
    "# Print the full list of models to process\n",
    "print('Models to process')\n",
    "print(count_table[\"source_id\"].values)\n"
   ],
   "metadata": {
    "collapsed": false,
    "pycharm": {
     "name": "#%%\n"
    }
   }
  },
  {
   "cell_type": "code",
   "execution_count": 4,
   "outputs": [
    {
     "data": {
      "text/plain": "     activity_id institution_id    source_id experiment_id  member_id  \\\n0           CMIP          MIROC       MIROC6    historical   r8i1p1f1   \n1           CMIP          MIROC       MIROC6    historical   r7i1p1f1   \n2           CMIP          MIROC       MIROC6    historical   r1i1p1f1   \n3           CMIP          MIROC       MIROC6    historical   r5i1p1f1   \n4           CMIP          MIROC       MIROC6    historical   r3i1p1f1   \n..           ...            ...          ...           ...        ...   \n804  ScenarioMIP           MOHC  UKESM1-0-LL        ssp245   r5i1p1f2   \n805  ScenarioMIP           MOHC  UKESM1-0-LL        ssp245  r12i1p1f2   \n806  ScenarioMIP           MOHC  UKESM1-0-LL        ssp245  r19i1p1f2   \n807  ScenarioMIP           MOHC  UKESM1-0-LL        ssp585   r4i1p1f2   \n808  ScenarioMIP           MOHC  UKESM1-0-LL        ssp126   r4i1p1f2   \n\n    table_id grid_label                                         tas_zstore  \\\n0       Amon         gn  gs://cmip6/CMIP6/CMIP/MIROC/MIROC6/historical/...   \n1       Amon         gn  gs://cmip6/CMIP6/CMIP/MIROC/MIROC6/historical/...   \n2       Amon         gn  gs://cmip6/CMIP6/CMIP/MIROC/MIROC6/historical/...   \n3       Amon         gn  gs://cmip6/CMIP6/CMIP/MIROC/MIROC6/historical/...   \n4       Amon         gn  gs://cmip6/CMIP6/CMIP/MIROC/MIROC6/historical/...   \n..       ...        ...                                                ...   \n804     Amon         gn  gs://cmip6/CMIP6/ScenarioMIP/MOHC/UKESM1-0-LL/...   \n805     Amon         gn  gs://cmip6/CMIP6/ScenarioMIP/MOHC/UKESM1-0-LL/...   \n806     Amon         gn  gs://cmip6/CMIP6/ScenarioMIP/MOHC/UKESM1-0-LL/...   \n807     Amon         gn  gs://cmip6/CMIP6/ScenarioMIP/MOHC/UKESM1-0-LL/...   \n808     Amon         gn  gs://cmip6/CMIP6/ScenarioMIP/MOHC/UKESM1-0-LL/...   \n\n     dcpp_init_year   version  \n0               NaN  20181212  \n1               NaN  20181212  \n2               NaN  20181212  \n3               NaN  20181212  \n4               NaN  20181212  \n..              ...       ...  \n804             NaN  20201112  \n805             NaN  20201113  \n806             NaN  20201117  \n807             NaN  20210205  \n808             NaN  20210205  \n\n[644 rows x 10 columns]",
      "text/html": "<div>\n<style scoped>\n    .dataframe tbody tr th:only-of-type {\n        vertical-align: middle;\n    }\n\n    .dataframe tbody tr th {\n        vertical-align: top;\n    }\n\n    .dataframe thead th {\n        text-align: right;\n    }\n</style>\n<table border=\"1\" class=\"dataframe\">\n  <thead>\n    <tr style=\"text-align: right;\">\n      <th></th>\n      <th>activity_id</th>\n      <th>institution_id</th>\n      <th>source_id</th>\n      <th>experiment_id</th>\n      <th>member_id</th>\n      <th>table_id</th>\n      <th>grid_label</th>\n      <th>tas_zstore</th>\n      <th>dcpp_init_year</th>\n      <th>version</th>\n    </tr>\n  </thead>\n  <tbody>\n    <tr>\n      <th>0</th>\n      <td>CMIP</td>\n      <td>MIROC</td>\n      <td>MIROC6</td>\n      <td>historical</td>\n      <td>r8i1p1f1</td>\n      <td>Amon</td>\n      <td>gn</td>\n      <td>gs://cmip6/CMIP6/CMIP/MIROC/MIROC6/historical/...</td>\n      <td>NaN</td>\n      <td>20181212</td>\n    </tr>\n    <tr>\n      <th>1</th>\n      <td>CMIP</td>\n      <td>MIROC</td>\n      <td>MIROC6</td>\n      <td>historical</td>\n      <td>r7i1p1f1</td>\n      <td>Amon</td>\n      <td>gn</td>\n      <td>gs://cmip6/CMIP6/CMIP/MIROC/MIROC6/historical/...</td>\n      <td>NaN</td>\n      <td>20181212</td>\n    </tr>\n    <tr>\n      <th>2</th>\n      <td>CMIP</td>\n      <td>MIROC</td>\n      <td>MIROC6</td>\n      <td>historical</td>\n      <td>r1i1p1f1</td>\n      <td>Amon</td>\n      <td>gn</td>\n      <td>gs://cmip6/CMIP6/CMIP/MIROC/MIROC6/historical/...</td>\n      <td>NaN</td>\n      <td>20181212</td>\n    </tr>\n    <tr>\n      <th>3</th>\n      <td>CMIP</td>\n      <td>MIROC</td>\n      <td>MIROC6</td>\n      <td>historical</td>\n      <td>r5i1p1f1</td>\n      <td>Amon</td>\n      <td>gn</td>\n      <td>gs://cmip6/CMIP6/CMIP/MIROC/MIROC6/historical/...</td>\n      <td>NaN</td>\n      <td>20181212</td>\n    </tr>\n    <tr>\n      <th>4</th>\n      <td>CMIP</td>\n      <td>MIROC</td>\n      <td>MIROC6</td>\n      <td>historical</td>\n      <td>r3i1p1f1</td>\n      <td>Amon</td>\n      <td>gn</td>\n      <td>gs://cmip6/CMIP6/CMIP/MIROC/MIROC6/historical/...</td>\n      <td>NaN</td>\n      <td>20181212</td>\n    </tr>\n    <tr>\n      <th>...</th>\n      <td>...</td>\n      <td>...</td>\n      <td>...</td>\n      <td>...</td>\n      <td>...</td>\n      <td>...</td>\n      <td>...</td>\n      <td>...</td>\n      <td>...</td>\n      <td>...</td>\n    </tr>\n    <tr>\n      <th>804</th>\n      <td>ScenarioMIP</td>\n      <td>MOHC</td>\n      <td>UKESM1-0-LL</td>\n      <td>ssp245</td>\n      <td>r5i1p1f2</td>\n      <td>Amon</td>\n      <td>gn</td>\n      <td>gs://cmip6/CMIP6/ScenarioMIP/MOHC/UKESM1-0-LL/...</td>\n      <td>NaN</td>\n      <td>20201112</td>\n    </tr>\n    <tr>\n      <th>805</th>\n      <td>ScenarioMIP</td>\n      <td>MOHC</td>\n      <td>UKESM1-0-LL</td>\n      <td>ssp245</td>\n      <td>r12i1p1f2</td>\n      <td>Amon</td>\n      <td>gn</td>\n      <td>gs://cmip6/CMIP6/ScenarioMIP/MOHC/UKESM1-0-LL/...</td>\n      <td>NaN</td>\n      <td>20201113</td>\n    </tr>\n    <tr>\n      <th>806</th>\n      <td>ScenarioMIP</td>\n      <td>MOHC</td>\n      <td>UKESM1-0-LL</td>\n      <td>ssp245</td>\n      <td>r19i1p1f2</td>\n      <td>Amon</td>\n      <td>gn</td>\n      <td>gs://cmip6/CMIP6/ScenarioMIP/MOHC/UKESM1-0-LL/...</td>\n      <td>NaN</td>\n      <td>20201117</td>\n    </tr>\n    <tr>\n      <th>807</th>\n      <td>ScenarioMIP</td>\n      <td>MOHC</td>\n      <td>UKESM1-0-LL</td>\n      <td>ssp585</td>\n      <td>r4i1p1f2</td>\n      <td>Amon</td>\n      <td>gn</td>\n      <td>gs://cmip6/CMIP6/ScenarioMIP/MOHC/UKESM1-0-LL/...</td>\n      <td>NaN</td>\n      <td>20210205</td>\n    </tr>\n    <tr>\n      <th>808</th>\n      <td>ScenarioMIP</td>\n      <td>MOHC</td>\n      <td>UKESM1-0-LL</td>\n      <td>ssp126</td>\n      <td>r4i1p1f2</td>\n      <td>Amon</td>\n      <td>gn</td>\n      <td>gs://cmip6/CMIP6/ScenarioMIP/MOHC/UKESM1-0-LL/...</td>\n      <td>NaN</td>\n      <td>20210205</td>\n    </tr>\n  </tbody>\n</table>\n<p>644 rows × 10 columns</p>\n</div>"
     },
     "execution_count": 4,
     "metadata": {},
     "output_type": "execute_result"
    }
   ],
   "source": [
    "###############################################################################\n",
    "# Turn the list of experiments and the models in count_table into a query to\n",
    "# get a pangeo subsetted list of tas files that we want to work with.\n",
    "#\n",
    "# available tas data is our first limiting step in terms of determining the\n",
    "# models, experiments, and ensemble members we have available to create an\n",
    "# archive for matching, Because our primary matching is performed on smooth\n",
    "# tgav time series.\n",
    "###############################################################################\n",
    "\n",
    "# CMIP6 models don't submit annual netcdfs, so we will calculate\n",
    "# tgav from monthly data.\n",
    "query = dict(\n",
    "    experiment_id=expts,\n",
    "    variable_id='tas',\n",
    "    source_id=count_table[\"source_id\"].copy(),\n",
    "    table_id='Amon',\n",
    "    grid_label='gn'\n",
    ")\n",
    "\n",
    "# Subset the pangeo catalog with our query.\n",
    "# This is the master list of files that we want to calculate Tgav across.\n",
    "# Subset further to only keep the p1 physics setting from each model.\n",
    "tas_pangeo_subset = pangeo.search(**query)\n",
    "\n",
    "tas_pangeo_subset.df = read.keep_p1_results(tas_pangeo_subset).copy()\n",
    "\n",
    "# rename the file column so that it has the variable id in it, and drop the\n",
    "# variable_id column for easier joining below:\n",
    "new_col_name = (tas_pangeo_subset.df['variable_id'].unique()+\"_zstore\")[0]\n",
    "tas_pangeo_subset.df = tas_pangeo_subset.df.rename(columns={'zstore':new_col_name}).drop(columns='variable_id').copy()\n",
    "\n",
    "# take a look\n",
    "tas_pangeo_subset.df\n"
   ],
   "metadata": {
    "collapsed": false,
    "pycharm": {
     "name": "#%%\n"
    }
   }
  },
  {
   "cell_type": "code",
   "execution_count": 5,
   "outputs": [],
   "source": [
    "###############################################################################\n",
    "# We must then determine which variables we may want gridded data for at some\n",
    "# point in our emulation. We must the join these to our tas pangeo_subset and\n",
    "# save it as a metadata csv file.\n",
    "#\n",
    "# The csv file can then be used to filter archive data to only those\n",
    "# experiment*ensemble members that have all the variables of interest for an\n",
    "# experiment.\n",
    "# Because this is metadata used for filtering and not any kind of data\n",
    "# processing code, we go ahead and add a lot of variables we know we might\n",
    "# care about at some point.\n",
    "\n",
    "# First, define a function to do the query and joining to the df of tas meta-\n",
    "# data.\n",
    "###############################################################################\n",
    "def query_and_join(cmip_var, time_var, join_to_df):\n",
    "    query = dict(\n",
    "        experiment_id=expts,\n",
    "        variable_id=cmip_var,\n",
    "        source_id=count_table[\"source_id\"].copy(),\n",
    "        table_id=time_var,\n",
    "        grid_label='gn'\n",
    "    )\n",
    "\n",
    "    # Subset the pangeo catalog with our query.\n",
    "    # This is the master list of files that we want to calculate Tgav across.\n",
    "    # Subset further to only keep the p1 physics setting from each model.\n",
    "    pangeo_subset = pangeo.search(**query)\n",
    "\n",
    "    pangeo_subset.df = read.keep_p1_results(pangeo_subset).copy()\n",
    "\n",
    "    # rename the file column so that it has the variable id in it, and drop the\n",
    "    # variable_id column for easier joining below:\n",
    "    new_col_name = (pangeo_subset.df['variable_id'].unique()+\"_zstore\")[0]\n",
    "    pangeo_subset.df = pangeo_subset.df.rename(columns={'zstore':new_col_name}).drop(columns='variable_id').copy()\n",
    "\n",
    "    # do a left join on the tas_pangeo_subset.df\n",
    "    out = pd.merge(left = join_to_df,\n",
    "                   right = pangeo_subset.df,\n",
    "                   how = 'left')\n",
    "\n",
    "    return(out)\n",
    "# end function definition\n",
    "\n",
    "\n"
   ],
   "metadata": {
    "collapsed": false,
    "pycharm": {
     "name": "#%%\n"
    }
   }
  },
  {
   "cell_type": "code",
   "execution_count": 6,
   "outputs": [
    {
     "data": {
      "text/plain": "     activity_id institution_id    source_id experiment_id  member_id  \\\n0           CMIP          MIROC       MIROC6    historical   r8i1p1f1   \n1           CMIP          MIROC       MIROC6    historical   r7i1p1f1   \n2           CMIP          MIROC       MIROC6    historical   r1i1p1f1   \n3           CMIP          MIROC       MIROC6    historical   r5i1p1f1   \n4           CMIP          MIROC       MIROC6    historical   r3i1p1f1   \n..           ...            ...          ...           ...        ...   \n639  ScenarioMIP           MOHC  UKESM1-0-LL        ssp245   r5i1p1f2   \n640  ScenarioMIP           MOHC  UKESM1-0-LL        ssp245  r12i1p1f2   \n641  ScenarioMIP           MOHC  UKESM1-0-LL        ssp245  r19i1p1f2   \n642  ScenarioMIP           MOHC  UKESM1-0-LL        ssp585   r4i1p1f2   \n643  ScenarioMIP           MOHC  UKESM1-0-LL        ssp126   r4i1p1f2   \n\n    table_id grid_label                                         tas_zstore  \\\n0       Amon         gn  gs://cmip6/CMIP6/CMIP/MIROC/MIROC6/historical/...   \n1       Amon         gn  gs://cmip6/CMIP6/CMIP/MIROC/MIROC6/historical/...   \n2       Amon         gn  gs://cmip6/CMIP6/CMIP/MIROC/MIROC6/historical/...   \n3       Amon         gn  gs://cmip6/CMIP6/CMIP/MIROC/MIROC6/historical/...   \n4       Amon         gn  gs://cmip6/CMIP6/CMIP/MIROC/MIROC6/historical/...   \n..       ...        ...                                                ...   \n639     Amon         gn  gs://cmip6/CMIP6/ScenarioMIP/MOHC/UKESM1-0-LL/...   \n640     Amon         gn  gs://cmip6/CMIP6/ScenarioMIP/MOHC/UKESM1-0-LL/...   \n641     Amon         gn  gs://cmip6/CMIP6/ScenarioMIP/MOHC/UKESM1-0-LL/...   \n642     Amon         gn  gs://cmip6/CMIP6/ScenarioMIP/MOHC/UKESM1-0-LL/...   \n643     Amon         gn  gs://cmip6/CMIP6/ScenarioMIP/MOHC/UKESM1-0-LL/...   \n\n     dcpp_init_year   version  \\\n0               NaN  20181212   \n1               NaN  20181212   \n2               NaN  20181212   \n3               NaN  20181212   \n4               NaN  20181212   \n..              ...       ...   \n639             NaN  20201112   \n640             NaN  20201113   \n641             NaN  20201117   \n642             NaN  20210205   \n643             NaN  20210205   \n\n                                            psl_zstore  \\\n0    gs://cmip6/CMIP6/CMIP/MIROC/MIROC6/historical/...   \n1    gs://cmip6/CMIP6/CMIP/MIROC/MIROC6/historical/...   \n2    gs://cmip6/CMIP6/CMIP/MIROC/MIROC6/historical/...   \n3    gs://cmip6/CMIP6/CMIP/MIROC/MIROC6/historical/...   \n4    gs://cmip6/CMIP6/CMIP/MIROC/MIROC6/historical/...   \n..                                                 ...   \n639                                                NaN   \n640                                                NaN   \n641                                                NaN   \n642                                                NaN   \n643                                                NaN   \n\n                                             pr_zstore  \\\n0    gs://cmip6/CMIP6/CMIP/MIROC/MIROC6/historical/...   \n1    gs://cmip6/CMIP6/CMIP/MIROC/MIROC6/historical/...   \n2    gs://cmip6/CMIP6/CMIP/MIROC/MIROC6/historical/...   \n3    gs://cmip6/CMIP6/CMIP/MIROC/MIROC6/historical/...   \n4    gs://cmip6/CMIP6/CMIP/MIROC/MIROC6/historical/...   \n..                                                 ...   \n639  gs://cmip6/CMIP6/ScenarioMIP/MOHC/UKESM1-0-LL/...   \n640  gs://cmip6/CMIP6/ScenarioMIP/MOHC/UKESM1-0-LL/...   \n641  gs://cmip6/CMIP6/ScenarioMIP/MOHC/UKESM1-0-LL/...   \n642  gs://cmip6/CMIP6/ScenarioMIP/MOHC/UKESM1-0-LL/...   \n643  gs://cmip6/CMIP6/ScenarioMIP/MOHC/UKESM1-0-LL/...   \n\n                                         tasmax_zstore  \\\n0    gs://cmip6/CMIP6/CMIP/MIROC/MIROC6/historical/...   \n1    gs://cmip6/CMIP6/CMIP/MIROC/MIROC6/historical/...   \n2    gs://cmip6/CMIP6/CMIP/MIROC/MIROC6/historical/...   \n3    gs://cmip6/CMIP6/CMIP/MIROC/MIROC6/historical/...   \n4    gs://cmip6/CMIP6/CMIP/MIROC/MIROC6/historical/...   \n..                                                 ...   \n639                                                NaN   \n640                                                NaN   \n641                                                NaN   \n642                                                NaN   \n643                                                NaN   \n\n                                         tasmin_zstore  \n0    gs://cmip6/CMIP6/CMIP/MIROC/MIROC6/historical/...  \n1    gs://cmip6/CMIP6/CMIP/MIROC/MIROC6/historical/...  \n2    gs://cmip6/CMIP6/CMIP/MIROC/MIROC6/historical/...  \n3    gs://cmip6/CMIP6/CMIP/MIROC/MIROC6/historical/...  \n4    gs://cmip6/CMIP6/CMIP/MIROC/MIROC6/historical/...  \n..                                                 ...  \n639                                                NaN  \n640                                                NaN  \n641                                                NaN  \n642                                                NaN  \n643                                                NaN  \n\n[644 rows x 14 columns]",
      "text/html": "<div>\n<style scoped>\n    .dataframe tbody tr th:only-of-type {\n        vertical-align: middle;\n    }\n\n    .dataframe tbody tr th {\n        vertical-align: top;\n    }\n\n    .dataframe thead th {\n        text-align: right;\n    }\n</style>\n<table border=\"1\" class=\"dataframe\">\n  <thead>\n    <tr style=\"text-align: right;\">\n      <th></th>\n      <th>activity_id</th>\n      <th>institution_id</th>\n      <th>source_id</th>\n      <th>experiment_id</th>\n      <th>member_id</th>\n      <th>table_id</th>\n      <th>grid_label</th>\n      <th>tas_zstore</th>\n      <th>dcpp_init_year</th>\n      <th>version</th>\n      <th>psl_zstore</th>\n      <th>pr_zstore</th>\n      <th>tasmax_zstore</th>\n      <th>tasmin_zstore</th>\n    </tr>\n  </thead>\n  <tbody>\n    <tr>\n      <th>0</th>\n      <td>CMIP</td>\n      <td>MIROC</td>\n      <td>MIROC6</td>\n      <td>historical</td>\n      <td>r8i1p1f1</td>\n      <td>Amon</td>\n      <td>gn</td>\n      <td>gs://cmip6/CMIP6/CMIP/MIROC/MIROC6/historical/...</td>\n      <td>NaN</td>\n      <td>20181212</td>\n      <td>gs://cmip6/CMIP6/CMIP/MIROC/MIROC6/historical/...</td>\n      <td>gs://cmip6/CMIP6/CMIP/MIROC/MIROC6/historical/...</td>\n      <td>gs://cmip6/CMIP6/CMIP/MIROC/MIROC6/historical/...</td>\n      <td>gs://cmip6/CMIP6/CMIP/MIROC/MIROC6/historical/...</td>\n    </tr>\n    <tr>\n      <th>1</th>\n      <td>CMIP</td>\n      <td>MIROC</td>\n      <td>MIROC6</td>\n      <td>historical</td>\n      <td>r7i1p1f1</td>\n      <td>Amon</td>\n      <td>gn</td>\n      <td>gs://cmip6/CMIP6/CMIP/MIROC/MIROC6/historical/...</td>\n      <td>NaN</td>\n      <td>20181212</td>\n      <td>gs://cmip6/CMIP6/CMIP/MIROC/MIROC6/historical/...</td>\n      <td>gs://cmip6/CMIP6/CMIP/MIROC/MIROC6/historical/...</td>\n      <td>gs://cmip6/CMIP6/CMIP/MIROC/MIROC6/historical/...</td>\n      <td>gs://cmip6/CMIP6/CMIP/MIROC/MIROC6/historical/...</td>\n    </tr>\n    <tr>\n      <th>2</th>\n      <td>CMIP</td>\n      <td>MIROC</td>\n      <td>MIROC6</td>\n      <td>historical</td>\n      <td>r1i1p1f1</td>\n      <td>Amon</td>\n      <td>gn</td>\n      <td>gs://cmip6/CMIP6/CMIP/MIROC/MIROC6/historical/...</td>\n      <td>NaN</td>\n      <td>20181212</td>\n      <td>gs://cmip6/CMIP6/CMIP/MIROC/MIROC6/historical/...</td>\n      <td>gs://cmip6/CMIP6/CMIP/MIROC/MIROC6/historical/...</td>\n      <td>gs://cmip6/CMIP6/CMIP/MIROC/MIROC6/historical/...</td>\n      <td>gs://cmip6/CMIP6/CMIP/MIROC/MIROC6/historical/...</td>\n    </tr>\n    <tr>\n      <th>3</th>\n      <td>CMIP</td>\n      <td>MIROC</td>\n      <td>MIROC6</td>\n      <td>historical</td>\n      <td>r5i1p1f1</td>\n      <td>Amon</td>\n      <td>gn</td>\n      <td>gs://cmip6/CMIP6/CMIP/MIROC/MIROC6/historical/...</td>\n      <td>NaN</td>\n      <td>20181212</td>\n      <td>gs://cmip6/CMIP6/CMIP/MIROC/MIROC6/historical/...</td>\n      <td>gs://cmip6/CMIP6/CMIP/MIROC/MIROC6/historical/...</td>\n      <td>gs://cmip6/CMIP6/CMIP/MIROC/MIROC6/historical/...</td>\n      <td>gs://cmip6/CMIP6/CMIP/MIROC/MIROC6/historical/...</td>\n    </tr>\n    <tr>\n      <th>4</th>\n      <td>CMIP</td>\n      <td>MIROC</td>\n      <td>MIROC6</td>\n      <td>historical</td>\n      <td>r3i1p1f1</td>\n      <td>Amon</td>\n      <td>gn</td>\n      <td>gs://cmip6/CMIP6/CMIP/MIROC/MIROC6/historical/...</td>\n      <td>NaN</td>\n      <td>20181212</td>\n      <td>gs://cmip6/CMIP6/CMIP/MIROC/MIROC6/historical/...</td>\n      <td>gs://cmip6/CMIP6/CMIP/MIROC/MIROC6/historical/...</td>\n      <td>gs://cmip6/CMIP6/CMIP/MIROC/MIROC6/historical/...</td>\n      <td>gs://cmip6/CMIP6/CMIP/MIROC/MIROC6/historical/...</td>\n    </tr>\n    <tr>\n      <th>...</th>\n      <td>...</td>\n      <td>...</td>\n      <td>...</td>\n      <td>...</td>\n      <td>...</td>\n      <td>...</td>\n      <td>...</td>\n      <td>...</td>\n      <td>...</td>\n      <td>...</td>\n      <td>...</td>\n      <td>...</td>\n      <td>...</td>\n      <td>...</td>\n    </tr>\n    <tr>\n      <th>639</th>\n      <td>ScenarioMIP</td>\n      <td>MOHC</td>\n      <td>UKESM1-0-LL</td>\n      <td>ssp245</td>\n      <td>r5i1p1f2</td>\n      <td>Amon</td>\n      <td>gn</td>\n      <td>gs://cmip6/CMIP6/ScenarioMIP/MOHC/UKESM1-0-LL/...</td>\n      <td>NaN</td>\n      <td>20201112</td>\n      <td>NaN</td>\n      <td>gs://cmip6/CMIP6/ScenarioMIP/MOHC/UKESM1-0-LL/...</td>\n      <td>NaN</td>\n      <td>NaN</td>\n    </tr>\n    <tr>\n      <th>640</th>\n      <td>ScenarioMIP</td>\n      <td>MOHC</td>\n      <td>UKESM1-0-LL</td>\n      <td>ssp245</td>\n      <td>r12i1p1f2</td>\n      <td>Amon</td>\n      <td>gn</td>\n      <td>gs://cmip6/CMIP6/ScenarioMIP/MOHC/UKESM1-0-LL/...</td>\n      <td>NaN</td>\n      <td>20201113</td>\n      <td>NaN</td>\n      <td>gs://cmip6/CMIP6/ScenarioMIP/MOHC/UKESM1-0-LL/...</td>\n      <td>NaN</td>\n      <td>NaN</td>\n    </tr>\n    <tr>\n      <th>641</th>\n      <td>ScenarioMIP</td>\n      <td>MOHC</td>\n      <td>UKESM1-0-LL</td>\n      <td>ssp245</td>\n      <td>r19i1p1f2</td>\n      <td>Amon</td>\n      <td>gn</td>\n      <td>gs://cmip6/CMIP6/ScenarioMIP/MOHC/UKESM1-0-LL/...</td>\n      <td>NaN</td>\n      <td>20201117</td>\n      <td>NaN</td>\n      <td>gs://cmip6/CMIP6/ScenarioMIP/MOHC/UKESM1-0-LL/...</td>\n      <td>NaN</td>\n      <td>NaN</td>\n    </tr>\n    <tr>\n      <th>642</th>\n      <td>ScenarioMIP</td>\n      <td>MOHC</td>\n      <td>UKESM1-0-LL</td>\n      <td>ssp585</td>\n      <td>r4i1p1f2</td>\n      <td>Amon</td>\n      <td>gn</td>\n      <td>gs://cmip6/CMIP6/ScenarioMIP/MOHC/UKESM1-0-LL/...</td>\n      <td>NaN</td>\n      <td>20210205</td>\n      <td>NaN</td>\n      <td>gs://cmip6/CMIP6/ScenarioMIP/MOHC/UKESM1-0-LL/...</td>\n      <td>NaN</td>\n      <td>NaN</td>\n    </tr>\n    <tr>\n      <th>643</th>\n      <td>ScenarioMIP</td>\n      <td>MOHC</td>\n      <td>UKESM1-0-LL</td>\n      <td>ssp126</td>\n      <td>r4i1p1f2</td>\n      <td>Amon</td>\n      <td>gn</td>\n      <td>gs://cmip6/CMIP6/ScenarioMIP/MOHC/UKESM1-0-LL/...</td>\n      <td>NaN</td>\n      <td>20210205</td>\n      <td>NaN</td>\n      <td>gs://cmip6/CMIP6/ScenarioMIP/MOHC/UKESM1-0-LL/...</td>\n      <td>NaN</td>\n      <td>NaN</td>\n    </tr>\n  </tbody>\n</table>\n<p>644 rows × 14 columns</p>\n</div>"
     },
     "execution_count": 6,
     "metadata": {},
     "output_type": "execute_result"
    }
   ],
   "source": [
    "###############################################################################\n",
    "# use the function and iterate over new variables to add metadata for\n",
    "###############################################################################\n",
    "new_df = query_and_join(cmip_var='psl', time_var='Amon', join_to_df=tas_pangeo_subset.df)\n",
    "\n",
    "new_df = query_and_join(cmip_var='pr', time_var='Amon', join_to_df=new_df)\n",
    "new_df = query_and_join(cmip_var='tasmax', time_var='Amon', join_to_df=new_df)\n",
    "new_df = query_and_join(cmip_var='tasmin', time_var='Amon', join_to_df=new_df)\n",
    "\n",
    "# Take a look\n",
    "new_df"
   ],
   "metadata": {
    "collapsed": false,
    "pycharm": {
     "name": "#%%\n"
    }
   }
  },
  {
   "cell_type": "code",
   "execution_count": 7,
   "outputs": [],
   "source": [
    "###############################################################################\n",
    "# Save it off; using this csv file, we can then filter our archive of smoothed\n",
    "# tgav values available for matching to only those experiment*ensemble members\n",
    "# that have the particular variables of interest to us as gridded data.\n",
    "###############################################################################\n",
    "\n",
    "# relative pathnames don't work when just running a python script.\n",
    "# Create a string with the local location of the stitches directory\n",
    "local_location = \"/Users/snyd535/Documents/task11a-topdown-clim-ML/stitches\"\n",
    "# local_location = \"/Users/dorh012/Documents/2021/stitches\"\n",
    "\n",
    "new_df.to_csv(local_location+\"/notebooks/stitches_dev/inputs/pangeo_path_metadata_tas_psl_pr_tmax_tmin.csv\", index=False)\n"
   ],
   "metadata": {
    "collapsed": false,
    "pycharm": {
     "name": "#%%\n"
    }
   }
  }
 ],
 "metadata": {
  "kernelspec": {
   "display_name": "Python 3",
   "language": "python",
   "name": "python3"
  },
  "language_info": {
   "codemirror_mode": {
    "name": "ipython",
    "version": 2
   },
   "file_extension": ".py",
   "mimetype": "text/x-python",
   "name": "python",
   "nbconvert_exporter": "python",
   "pygments_lexer": "ipython2",
   "version": "2.7.6"
  }
 },
 "nbformat": 4,
 "nbformat_minor": 0
}