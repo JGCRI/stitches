{
 "cells": [
  {
   "cell_type": "markdown",
   "metadata": {
    "collapsed": true,
    "pycharm": {
     "name": "#%%m\n"
    }
   },
   "source": [
    "# Gridded Stitching\n",
    "\n",
    "Note this will not work if connected to vpn and for some reasonn this jupyter notebook does not run in pycharm. \n",
    "\n",
    "What we are doing here is taking the stitched recepie from Abigail using it to stich together gridded data diretly from pangeo. "
   ]
  },
  {
   "cell_type": "code",
   "execution_count": 123,
   "metadata": {
    "pycharm": {
     "name": "#%%\n"
    }
   },
   "outputs": [],
   "source": [
    "# load libraries \n",
    "import xarray as xr\n",
    "import fsspec as fsspec\n",
    "import pandas as pd\n",
    "import numpy as np\n",
    "from matplotlib import pyplot as plt\n",
    "import seaborn as sns\n",
    "import intake "
   ]
  },
  {
   "cell_type": "markdown",
   "metadata": {
    "pycharm": {
     "name": "#%%m\n"
    }
   },
   "source": [
    "## Define the functions we will use to process data.\n",
    "\n",
    "The helper functions that can be used to load the data, select, and stitch the data. "
   ]
  },
  {
   "cell_type": "code",
   "execution_count": 2,
   "metadata": {
    "pycharm": {
     "name": "#%%\n"
    }
   },
   "outputs": [],
   "source": [
    "def load_data(path):\n",
    "    \"\"\"Extract data for a single file.\n",
    "\n",
    "        :param path:                str of the location of the cmip6 data file on pangeo.\n",
    "        :return:                    an xarray containing cmip6 data downloaded from the pangeo.\n",
    "    \"\"\"\n",
    "    ds = xr.open_zarr(fsspec.get_mapper(path))\n",
    "    return ds\n",
    "\n",
    "def get_netcdf_values(i, dl, rp, fl):\n",
    "\n",
    "    \"\"\"Extract the archive values from the list of downloaded cmip data\n",
    "\n",
    "        :param i:              int index of the row of the recipe data frame\n",
    "        :param dl:             list of xarray cmip files\n",
    "        :param rp:             data frame of the recipe\n",
    "        :param fl:             list of the cmip files\n",
    "        :return:               a slice of xarray (not sure confident on the technical term)\n",
    "    \"\"\"\n",
    "    file = rp[\"file\"][i]\n",
    "    start_yr = str(rp[\"archive_start_yr\"][i])\n",
    "    end_yr = str(rp[\"archive_end_yr\"][i])\n",
    "\n",
    "    # Figure out which index level we are on and then get the\n",
    "    # xarray from the list.\n",
    "    index = int(np.where(fl == file)[0])\n",
    "    extracted = dl[index]\n",
    "    dat = extracted.sel(time=slice(start_yr, end_yr)).tas.values.copy()\n",
    "\n",
    "    # TODO figure out why the date range is so does not include\n",
    "    expected_len = len(pd.date_range(start=start_yr+\"-01-01\", end=end_yr+\"-12-31\", freq='M'))\n",
    "    assert (len(dat) == expected_len), \"Not enough data in \" + file + \"for period \" + start_yr + \"-\" + end_yr\n",
    "\n",
    "    return dat\n",
    "\n",
    "\n",
    "def get_data_from_pangeo(fl):\n",
    "    \"\"\"Download all of the data from a pangeo file list\n",
    "\n",
    "        :param fl:             list of the files to get data from\n",
    "        :return:               list of xarray\n",
    "    \"\"\"\n",
    "    data_list = []\n",
    "\n",
    "    # this for loop is really really freaking slow need to figure out how\n",
    "    # the heck to do this also only want to have to run it once runing it mulitple\n",
    "    # times is awuful!\n",
    "    for f in fl:\n",
    "        o = load_data(f)\n",
    "        data_list.append(o)\n",
    "\n",
    "    return data_list\n",
    "\n",
    "\n",
    "def stitch_gridded(rp, dl, fl):\n",
    "    \"\"\"stitch the gridded data together.\n",
    "\n",
    "        :param rp:             data frame of the recepies\n",
    "        :param dl:             list of the data files\n",
    "        :param fl:             list of the data file names\n",
    "        :return:               xarray data set\n",
    "\n",
    "        TODO add a check to make sure that there is only one stitching id being passed into\n",
    "        the function.\n",
    "    \"\"\"\n",
    "\n",
    "    rp.reset_index(drop=True, inplace=True)\n",
    "    out = get_netcdf_values(i=0, dl=dl, rp=rp, fl=fl)\n",
    "\n",
    "    for i in range(1,len(rp)):\n",
    "        new_vals = get_netcdf_values(i=i, dl=dl, rp=rp, fl=fl)\n",
    "        out = np.concatenate((out, new_vals), axis=0)\n",
    "\n",
    "    # Create a time series with the target data information\n",
    "    # TODO this needs to be some sort of check that allows you to make sure that there is only 1 recipe being stitched\n",
    "    # select monthly, daily, or annual data.\n",
    "    start = str(min(rp[\"target_start_yr\"]))\n",
    "    end = str(max(rp[\"target_end_yr\"]))\n",
    "\n",
    "    # Note that the pd.date_range call need the date/month defined otherwise it will\n",
    "    # truncate the year from start of first year to start of end year which is not\n",
    "    # what we want. We want the full final year to be included in the times series.\n",
    "    times = pd.date_range(start=start+\"-01-01\", end=end+\"-12-31\", freq='M')\n",
    "    assert (len(out) == len(times)), \"Problem with the length of time\"\n",
    "\n",
    "    # Extract the lat and lon information that will be used to structure the\n",
    "    # empty netcdf file.\n",
    "    lat = dl[0].lat.values\n",
    "    lon = dl[0].lon.values\n",
    "\n",
    "    # Creat the xarray data set\n",
    "    rslt=xr.Dataset({'tas': xr.DataArray(\n",
    "        out,\n",
    "        coords=[times, lat, lon],\n",
    "        dims=[\"time\", \"lat\", 'lon'],\n",
    "        # TODO what other meta data should be added? A path to the recepie file?\n",
    "        attrs={'units': 'K',\n",
    "               'stitching_id': str(rp['stitching_id'].unique())})\n",
    "    })\n",
    "\n",
    "    return rslt"
   ]
  },
  {
   "cell_type": "markdown",
   "metadata": {
    "pycharm": {
     "name": "#%%m\n"
    }
   },
   "source": [
    "## Import the data"
   ]
  },
  {
   "cell_type": "code",
   "execution_count": 3,
   "metadata": {
    "pycharm": {
     "name": "#%%\n"
    }
   },
   "outputs": [],
   "source": [
    "# Read in the recepies!\n",
    "recepie = pd.read_csv('/Users/dorh012/projects/2021/stitches/notebooks/stitches_dev/recpies_for_python.csv')\n",
    "\n",
    "# Save a copy of the unique file list to minimize the number of files we have to\n",
    "# download from pangeo.\n",
    "file_list = recepie.file.unique().copy()"
   ]
  },
  {
   "cell_type": "markdown",
   "metadata": {
    "pycharm": {
     "name": "#%%m\n"
    }
   },
   "source": [
    "## Download all of the files!"
   ]
  },
  {
   "cell_type": "code",
   "execution_count": 169,
   "metadata": {
    "pycharm": {
     "name": "#%%\n"
    },
    "scrolled": true
   },
   "outputs": [],
   "source": [
    "# test out to make sure that the files can be downloaded from pangeo \n",
    "#load_data(file_list[0])"
   ]
  },
  {
   "cell_type": "code",
   "execution_count": 5,
   "metadata": {
    "pycharm": {
     "name": "#%%\n"
    }
   },
   "outputs": [],
   "source": [
    "# Download all of the files we need for the different recepies. This\n",
    "# may take a bit of time to run and WILL NOT WORK IF CONNECTED TO VPN.\n",
    "# TODO add some sort of progress bar it is really hard to tell if it is running and it can a couple of mins.\n",
    "data_list = get_data_from_pangeo(file_list)"
   ]
  },
  {
   "cell_type": "markdown",
   "metadata": {},
   "source": [
    "## Generate the stitched gridded produts! "
   ]
  },
  {
   "cell_type": "code",
   "execution_count": 6,
   "metadata": {
    "pycharm": {
     "name": "#%%\n"
    }
   },
   "outputs": [],
   "source": [
    "rslts = []\n",
    "for id in recepie['stitching_id'].unique():\n",
    "    x = recepie[recepie['stitching_id'] == id].copy()\n",
    "    out = stitch_gridded(rp=x, dl=data_list, fl=file_list)\n",
    "    out.to_netcdf(\"stitched_\"+id+\".nc\")\n",
    "    rslts.append(out)"
   ]
  },
  {
   "cell_type": "markdown",
   "metadata": {},
   "source": [
    "## Make the comparison netdf file!\n",
    "\n",
    "It should be the historical+ssp245 r1i1p1f1 CanESM5 "
   ]
  },
  {
   "cell_type": "code",
   "execution_count": 10,
   "metadata": {},
   "outputs": [],
   "source": [
    "path = 'gs://cmip6/CMIP6/CMIP/CCCma/CanESM5/historical/r1i1p1f1/Amon/tas/gn/v20190429/'\n",
    "hist = load_data(path)"
   ]
  },
  {
   "cell_type": "code",
   "execution_count": 16,
   "metadata": {},
   "outputs": [],
   "source": [
    "path = 'gs://cmip6/CMIP6/ScenarioMIP/CCCma/CanESM5/ssp245/r1i1p1f1/Amon/tas/gn/v20190429/'\n",
    "fut = load_data(path)"
   ]
  },
  {
   "cell_type": "code",
   "execution_count": 27,
   "metadata": {},
   "outputs": [],
   "source": [
    "comparison = np.concatenate((hist.tas.values, fut.tas.values), axis=0)\n",
    "times = pd.date_range(start=\"1850\"+\"-01-01\", end=\"2100\"+\"-12-31\", freq='M')"
   ]
  },
  {
   "cell_type": "code",
   "execution_count": 29,
   "metadata": {},
   "outputs": [],
   "source": [
    "lat = hist.lat.values\n",
    "lon = hist.lon.values\n",
    "# Creat the xarray data set\n",
    "rslt=xr.Dataset({'tas': xr.DataArray(\n",
    "        comparison,\n",
    "        coords=[times, lat, lon],\n",
    "        dims=[\"time\", \"lat\", 'lon'],\n",
    "        # TODO what other meta data should be added? A path to the recepie file?\n",
    "        attrs={'units': 'K',\n",
    "               'stitching_id': 'actual data'})\n",
    "    })"
   ]
  },
  {
   "cell_type": "code",
   "execution_count": 30,
   "metadata": {},
   "outputs": [],
   "source": [
    "rslt.to_netcdf(\"stitched_real-data.nc\")"
   ]
  },
  {
   "cell_type": "markdown",
   "metadata": {},
   "source": [
    "## Compare Global Means "
   ]
  },
  {
   "cell_type": "code",
   "execution_count": 168,
   "metadata": {},
   "outputs": [],
   "source": [
    "# We will need the cell area data for the model. \n",
    "pangeo = intake.open_esm_datastore(\"https://storage.googleapis.com/cmip6/pangeo-cmip6.json\")\n",
    "\n",
    "query = dict(\n",
    "experiment_id = ['historical', 'ssp585', 'ssp434'],\n",
    "variable_id = 'tas',\n",
    "member_id = ['r1i1p1f1'],\n",
    "source_id = 'CanESM5',\n",
    "table_id = 'Amon')\n",
    "\n",
    "# Subbset the pangeo catalog with our query.\n",
    "pangeo_subset = pangeo.search(require_all_on=[\"source_id\"], **query)\n",
    "\n",
    "# Make the subset of the pangeo catalog look nice.\n",
    "pangeo_subset.df.groupby(\"source_id\")[[\"experiment_id\", \"variable_id\",\"table_id\"]].nunique()\n",
    "df_area = pangeo.df.query(\"variable_id == 'areacella' & source_id == 'CanESM5'\")\n",
    "ds_area = xr.open_zarr(fsspec.get_mapper(df_area.zstore.values[0]), consolidated=True)"
   ]
  },
  {
   "cell_type": "code",
   "execution_count": 158,
   "metadata": {},
   "outputs": [],
   "source": [
    "total_area = ds_area.areacella.sum(dim=['lon', 'lat'])\n",
    "ta_timeseries = (ds.tas * ds_area.areacella).sum(dim=['lon', 'lat']) / total_area"
   ]
  },
  {
   "cell_type": "code",
   "execution_count": 157,
   "metadata": {},
   "outputs": [],
   "source": [
    "def get_global_mean(ds_area, ds):\n",
    "    total_area = ds_area.areacella.sum(dim=['lon', 'lat'])\n",
    "    ta_timeseries = (ds.tas * ds_area.areacella).sum(dim=['lon', 'lat']) / total_area\n",
    "    vals = ta_timeseries.rolling(time=12).mean()\n",
    "    return vals"
   ]
  },
  {
   "cell_type": "code",
   "execution_count": 165,
   "metadata": {},
   "outputs": [],
   "source": [
    "canesm = get_global_mean(ds_area, rslt)\n",
    "d1 = get_global_mean(ds_area, rslts[0])\n",
    "d2 = get_global_mean(ds_area, rslts[1])\n",
    "d3 = get_global_mean(ds_area, rslts[2])\n",
    "d4 = get_global_mean(ds_area, rslts[3])\n",
    "d5 = get_global_mean(ds_area, rslts[4])"
   ]
  },
  {
   "cell_type": "markdown",
   "metadata": {},
   "source": [
    "### The CanESM data we used in the training \n",
    "\n",
    "Note that this 12 month rolling average of the monthly data. "
   ]
  },
  {
   "cell_type": "code",
   "execution_count": 171,
   "metadata": {},
   "outputs": [
    {
     "data": {
      "text/plain": [
       "Text(0.5, 1.0, 'Global Mean Surface Air Temperature')"
      ]
     },
     "execution_count": 171,
     "metadata": {},
     "output_type": "execute_result"
    },
    {
     "data": {
      "image/png": "[encoded data removed]",
      "text/plain": [
       "<Figure size 432x288 with 1 Axes>"
      ]
     },
     "metadata": {
      "needs_background": "light"
     },
     "output_type": "display_data"
    }
   ],
   "source": [
    "canesm.plot(label= \"CanESM data\")\n",
    "plt.legend()\n",
    "plt.title('Global Mean Surface Air Temperature')"
   ]
  },
  {
   "cell_type": "markdown",
   "metadata": {},
   "source": [
    "### Compare the ensemble results with the CanESM results"
   ]
  },
  {
   "cell_type": "code",
   "execution_count": 173,
   "metadata": {},
   "outputs": [
    {
     "data": {
      "text/plain": [
       "Text(0.5, 1.0, 'Global Mean Surface Air Temperature')"
      ]
     },
     "execution_count": 173,
     "metadata": {},
     "output_type": "execute_result"
    },
    {
     "data": {
      "image/png": "[encoded data removed]",
      "text/plain": [
       "<Figure size 432x288 with 1 Axes>"
      ]
     },
     "metadata": {
      "needs_background": "light"
     },
     "output_type": "display_data"
    }
   ],
   "source": [
    "canesm.plot(label= \"CanESM data\")\n",
    "d1.plot(label = \"x1\")\n",
    "d2.plot(label = \"x2\")\n",
    "#d3.plot(label = \"x3\")\n",
    "#d4.plot(label = \"x4\")\n",
    "#d5.plot(label = \"x5\")\n",
    "plt.legend()\n",
    "plt.title('Global Mean Surface Air Temperature')"
   ]
  }
 ],
 "metadata": {
  "kernelspec": {
   "display_name": "Python 3",
   "language": "python",
   "name": "python3"
  },
  "language_info": {
   "codemirror_mode": {
    "name": "ipython",
    "version": 3
   },
   "file_extension": ".py",
   "mimetype": "text/x-python",
   "name": "python",
   "nbconvert_exporter": "python",
   "pygments_lexer": "ipython3",
   "version": "3.7.8"
  }
 },
 "nbformat": 4,
 "nbformat_minor": 1
}