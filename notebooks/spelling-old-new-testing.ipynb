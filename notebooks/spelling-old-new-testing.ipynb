{
 "cells": [
  {
   "cell_type": "markdown",
   "source": [
    "# spell checking\n",
    "\n",
    "\n",
    "do old-new tests informally here.\n",
    "\n",
    "general approach:\n",
    "- run block of code to save off results for later comparison\n",
    "- new block of same code that gets run once changes made\n",
    "- compare results\n"
   ],
   "metadata": {
    "collapsed": false
   }
  },
  {
   "cell_type": "code",
   "execution_count": 1,
   "outputs": [],
   "source": [
    "import stitches as stitches"
   ],
   "metadata": {
    "collapsed": false,
    "pycharm": {
     "name": "#%%\n"
    }
   }
  },
  {
   "cell_type": "code",
   "execution_count": 2,
   "outputs": [],
   "source": [
    "import pandas as pd\n",
    "import pkg_resources\n",
    "import xarray as xr\n",
    "import numpy as np\n",
    "\n",
    "# For help with plotting\n",
    "from matplotlib import pyplot as plt\n",
    "%matplotlib inline\n",
    "%config InlineBackend.figure_format = 'retina'\n",
    "plt.rcParams['figure.figsize'] = 12, 6"
   ],
   "metadata": {
    "collapsed": false,
    "pycharm": {
     "name": "#%%\n"
    }
   }
  },
  {
   "cell_type": "code",
   "execution_count": 4,
   "outputs": [
    {
     "name": "stdout",
     "output_type": "stream",
     "text": [
      "   ensemble variable    model experiment  start_yr  end_yr  year        fx  \\\n",
      "0  r1i1p1f1      tas  CanESM5     ssp245      1850    1858  1854 -1.289870   \n",
      "1  r1i1p1f1      tas  CanESM5     ssp245      1859    1867  1863 -1.268776   \n",
      "2  r1i1p1f1      tas  CanESM5     ssp245      1868    1876  1872 -1.215083   \n",
      "3  r1i1p1f1      tas  CanESM5     ssp245      1877    1885  1881 -1.195105   \n",
      "4  r1i1p1f1      tas  CanESM5     ssp245      1886    1894  1890 -1.250430   \n",
      "\n",
      "         dx  \n",
      "0 -0.003368  \n",
      "1  0.009320  \n",
      "2  0.004758  \n",
      "3 -0.014627  \n",
      "4  0.014695  \n"
     ]
    }
   ],
   "source": [
    "# read in the package data of all ESMs-Scenarios-ensemble members avail.\n",
    "path = pkg_resources.resource_filename('stitches', 'data/matching_archive.csv')\n",
    "data = pd.read_csv(path)\n",
    "\n",
    "# subset to the target\n",
    "target_data = data[data[\"model\"] == \"CanESM5\"].copy()\n",
    "target_data = target_data[target_data[\"experiment\"] == 'ssp245']\n",
    "target_data = target_data[target_data[\"ensemble\"].isin(['r1i1p1f1'])]\n",
    "target_data = target_data.reset_index(drop=True)\n",
    "print(target_data.head())\n"
   ],
   "metadata": {
    "collapsed": false,
    "pycharm": {
     "name": "#%%\n"
    }
   }
  },
  {
   "cell_type": "code",
   "execution_count": 5,
   "outputs": [
    {
     "name": "stdout",
     "output_type": "stream",
     "text": [
      "       ensemble variable    model experiment  start_yr  end_yr  year  \\\n",
      "6996  r10i1p1f1      tas  CanESM5     ssp126      1850    1858  1854   \n",
      "6997  r10i1p1f1      tas  CanESM5     ssp126      1859    1867  1863   \n",
      "6998  r10i1p1f1      tas  CanESM5     ssp126      1868    1876  1872   \n",
      "6999  r10i1p1f1      tas  CanESM5     ssp126      1877    1885  1881   \n",
      "7000  r10i1p1f1      tas  CanESM5     ssp126      1886    1894  1890   \n",
      "\n",
      "            fx        dx  \n",
      "6996 -1.360399  0.016472  \n",
      "6997 -1.297474 -0.001508  \n",
      "6998 -1.200856  0.010901  \n",
      "6999 -1.218503 -0.016847  \n",
      "7000 -1.285527  0.006000  \n"
     ]
    }
   ],
   "source": [
    "archive_data = data[data[\"model\"] == \"CanESM5\"]\n",
    "archive_data = archive_data[archive_data[\"experiment\"].isin([\n",
    "    'ssp126',  'ssp370', 'ssp585'])]\n",
    "print(archive_data.head())"
   ],
   "metadata": {
    "collapsed": false,
    "pycharm": {
     "name": "#%%\n"
    }
   }
  },
  {
   "cell_type": "markdown",
   "source": [
    "# Pre fix  block\n",
    "- save off recipes\n",
    "- MUST NOT re-run this block once changes have been enacted"
   ],
   "metadata": {
    "collapsed": false,
    "pycharm": {
     "name": "#%% md\n"
    }
   }
  },
  {
   "cell_type": "code",
   "execution_count": 5,
   "outputs": [
    {
     "name": "stdout",
     "output_type": "stream",
     "text": [
      "You have requested more recipes than possible for at least one target trajectories, returning what can\n",
      "  target_start_yr target_end_yr archive_experiment archive_variable  \\\n",
      "0            1850          1858         historical              tas   \n",
      "1            1859          1867         historical              tas   \n",
      "2            1868          1876         historical              tas   \n",
      "3            1877          1885         historical              tas   \n",
      "4            1886          1894         historical              tas   \n",
      "\n",
      "  archive_model archive_ensemble       stitching_id archive_start_yr  \\\n",
      "0       CanESM5        r22i1p1f1  ssp245~r1i1p1f1~1             1850   \n",
      "1       CanESM5        r23i1p1f1  ssp245~r1i1p1f1~1             1868   \n",
      "2       CanESM5        r25i1p1f1  ssp245~r1i1p1f1~1             1868   \n",
      "3       CanESM5         r1i1p1f1  ssp245~r1i1p1f1~1             1877   \n",
      "4       CanESM5        r21i1p1f1  ssp245~r1i1p1f1~1             1868   \n",
      "\n",
      "  archive_end_yr                                           tas_file  \n",
      "0           1858  gs://cmip6/CMIP6/CMIP/CCCma/CanESM5/historical...  \n",
      "1           1876  gs://cmip6/CMIP6/CMIP/CCCma/CanESM5/historical...  \n",
      "2           1876  gs://cmip6/CMIP6/CMIP/CCCma/CanESM5/historical...  \n",
      "3           1885  gs://cmip6/CMIP6/CMIP/CCCma/CanESM5/historical...  \n",
      "4           1876  gs://cmip6/CMIP6/CMIP/CCCma/CanESM5/historical...  \n"
     ]
    }
   ],
   "source": [
    "my_recipes = stitches.make_recipe(target_data, archive_data,\n",
    "                                  tol = 0.06, N_matches = 4, reproducible=True)\n",
    "\n",
    "print(my_recipes.head())\n",
    "# my_recipes.to_csv('old_recipes.csv', index=False)\n",
    "# stitched_global_temp = stitches.gmat_stitching(my_recipes)\n",
    "# stitched_global_temp.to_csv('old_tgavs.csv', index=False)"
   ],
   "metadata": {
    "collapsed": false,
    "pycharm": {
     "name": "#%%\n"
    }
   }
  },
  {
   "cell_type": "markdown",
   "source": [
    "# new block\n",
    "- same code\n",
    "- run after the fixes"
   ],
   "metadata": {
    "collapsed": false
   }
  },
  {
   "cell_type": "code",
   "execution_count": 6,
   "outputs": [
    {
     "name": "stdout",
     "output_type": "stream",
     "text": [
      "You have requested more recipes than possible for at least one target trajectories, returning what can\n"
     ]
    }
   ],
   "source": [
    "my_recipes = stitches.make_recipe(target_data, archive_data,\n",
    "                                  tol = 0.06, N_matches = 4, reproducible=True)\n"
   ],
   "metadata": {
    "collapsed": false,
    "pycharm": {
     "name": "#%%\n"
    }
   }
  },
  {
   "cell_type": "markdown",
   "source": [
    "# old-new comparison"
   ],
   "metadata": {
    "collapsed": false
   }
  },
  {
   "cell_type": "code",
   "execution_count": 8,
   "outputs": [
    {
     "name": "stdout",
     "output_type": "stream",
     "text": [
      "------------------------------------------------------------------\n",
      "Are the old and new recipes identical:\n",
      "True\n",
      "------------------------------------------------------------------\n"
     ]
    }
   ],
   "source": [
    "\n",
    "old_recipes = pd.read_csv('old_recipes.csv')\n",
    "print('------------------------------------------------------------------')\n",
    "print('Are the old and new recipes identical:')\n",
    "print(my_recipes.compare(old_recipes).empty)\n",
    "print('------------------------------------------------------------------')\n",
    "# two data frames identcal if pd.DataFrame.compare returns an empty df,\n",
    "# since pd.DataFrame.compare returns a data frame of all differences"
   ],
   "metadata": {
    "collapsed": false,
    "pycharm": {
     "name": "#%%\n"
    }
   }
  },
  {
   "cell_type": "code",
   "execution_count": 9,
   "outputs": [
    {
     "name": "stdout",
     "output_type": "stream",
     "text": [
      "------------------------------------------------------------------\n",
      "Are the old and new recipes identical:\n",
      "False\n",
      "------------------------------------------------------------------\n",
      "max differences of value column:\n",
      "4.440892098500626e-16\n",
      "------------------------------------------------------------------\n",
      "Actual disagreements:\n",
      "        value          \n",
      "         self     other\n",
      "229  2.839796  2.839796\n",
      "491  2.785270  2.785270\n",
      "751  2.785270  2.785270\n",
      "------------------------------------------------------------------\n"
     ]
    }
   ],
   "source": [
    "stitched_global_temp = stitches.gmat_stitching(my_recipes)\n",
    "old_global_temp = pd.read_csv('old_tgavs.csv')\n",
    "print('------------------------------------------------------------------')\n",
    "print('Are the old and new recipes identical:')\n",
    "print(stitched_global_temp.compare(old_global_temp).empty)\n",
    "print('------------------------------------------------------------------')\n",
    "print('max differences of value column:')\n",
    "print(np.max(abs(old_global_temp.value - stitched_global_temp.value)))\n",
    "print('------------------------------------------------------------------')\n",
    "print('Actual disagreements:')\n",
    "print(stitched_global_temp.compare(old_global_temp))\n",
    "print('------------------------------------------------------------------')"
   ],
   "metadata": {
    "collapsed": false,
    "pycharm": {
     "name": "#%%\n"
    }
   }
  }
 ],
 "metadata": {
  "kernelspec": {
   "display_name": "Python 3",
   "language": "python",
   "name": "python3"
  },
  "language_info": {
   "codemirror_mode": {
    "name": "ipython",
    "version": 2
   },
   "file_extension": ".py",
   "mimetype": "text/x-python",
   "name": "python",
   "nbconvert_exporter": "python",
   "pygments_lexer": "ipython2",
   "version": "2.7.6"
  }
 },
 "nbformat": 4,
 "nbformat_minor": 0
}