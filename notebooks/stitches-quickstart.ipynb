{
 "cells": [
  {
   "cell_type": "markdown",
   "metadata": {},
   "source": [
    "# STITCHES Quickstarter\n",
    "\n",
    "The purpose of this tutorial is to demonstrate how `stitches` can be used as an emulator. While `stitches` can\n",
    " emulate a number of CMIP6 models this example will focus on emulating CanESM5 SSP245 results.\n",
    "\n",
    "To use `stitches`, there are a number of decisions users have to make,\n",
    "perhaps the most important being:\n",
    "\n",
    "* Which ESM will `stitches` emulate?\n",
    "* What archive data will be used? These are values that the target data will be matched to. It should only\n",
    "contain data for the specific ESM that is being emulated. Users may limit the number of experiments or\n",
    "ensemble realizations within the archive in order to achieve their specific experimental setup.\n",
    "* What target data will be used? This data frame represents the temperature pathway the stitched product\n",
    "will follow. The contents of this data frame may come from CMIP6 ESM results for an SSP or it may follow\n",
    "some arbitrary pathway.\n",
    "\n",
    "A diagram illustrating the `stitches` process is included for reference:\n",
    "\n",
    "![stitches workflow](figs/stitches_diagram.jpg)\n",
    "\n",
    "- `stitches` defaults to $X=9$ year windows.\n"
   ]
  },
  {
   "cell_type": "markdown",
   "metadata": {},
   "source": [
    "So, if one were to take smoothed ESM data for many scenarios and plot the\n",
    "global average temperature, the vertical lines drawn here represents a _potential_\n",
    "segmenting of the data into those 9 year windows:\n",
    "\n",
    "![Example Tgav](figs/Tutorial_2023_tgavex.jpg)\n",
    "\n",
    "\n",
    "In each segment, the median temperature value and the change in value per segment\n",
    "can be plotted in a two dimensional space:\n",
    "\n",
    "![Example T, dT](figs/Tutorial_2023_T_dT_example.jpg)\n",
    "\n",
    "The black points represent a 'target' scenario. This two dimensional space is where\n",
    "matching to the available archive points (colorful) occurs.\n",
    "\n",
    "\n",
    "## Getting Started"
   ]
  },
  {
   "cell_type": "markdown",
   "metadata": {},
   "source": [
    "Start by loading the stitches package (see [installation instructions](https://github.com/jgcri/stitches)\n",
    "if `stitches` is not yet installed)."
   ]
  },
  {
   "cell_type": "code",
   "execution_count": null,
   "metadata": {
    "collapsed": false,
    "jupyter": {
     "outputs_hidden": false
    },
    "pycharm": {
     "name": "#%%\n"
    }
   },
   "outputs": [],
   "source": [
    "import stitches\n"
   ]
  },
  {
   "cell_type": "markdown",
   "metadata": {},
   "source": [
    "Load the additional python libraries that will be used in this example.  These packages are installed as `stitches` dependencies."
   ]
  },
  {
   "cell_type": "code",
   "execution_count": null,
   "metadata": {
    "collapsed": false,
    "jupyter": {
     "outputs_hidden": false
    },
    "pycharm": {
     "name": "#%%\n"
    }
   },
   "outputs": [],
   "source": [
    "import os\n",
    "import pkg_resources\n",
    "import warnings\n",
    "\n",
    "import numpy as np\n",
    "import pandas as pd\n",
    "from matplotlib import pyplot as plt\n",
    "\n",
    "\n",
    "\n",
    "# For help with plotting\n",
    "%matplotlib inline\n",
    "%config InlineBackend.figure_format = 'retina'\n",
    "plt.rcParams['figure.figsize'] = 12, 6\n"
   ]
  },
  {
   "cell_type": "markdown",
   "metadata": {
    "pycharm": {
     "name": "#%% md\n"
    }
   },
   "source": [
    "## Install the package data from Zenodo\n",
    "\n",
    "The package data is all data that has been processed from raw Pangeo data\n",
    " and is generated with package functions. For convenience and rapid cloning\n",
    " of the github repository, the package data is also minted on Zenodo and\n",
    " can be quickly downloaded for using the package.\n",
    " "
   ]
  },
  {
   "cell_type": "code",
   "execution_count": null,
   "metadata": {
    "collapsed": false,
    "jupyter": {
     "outputs_hidden": false
    },
    "pycharm": {
     "name": "#%%\n"
    }
   },
   "outputs": [],
   "source": [
    "stitches.install_package_data()"
   ]
  },
  {
   "cell_type": "markdown",
   "metadata": {},
   "source": [
    "## Example 1: Emulate global mean air temperature\n",
    "\n",
    "We will begin with an example focused on emulating global mean air\n",
    "temperature before moving on to an example producing gridded data for\n",
    "multiple variables.\n",
    "\n",
    "The global mean air temperature (GSAT) is the key variable upon which\n",
    "`stitches` operates to construct new realizations, with the added benefit that it is easy to visualize.\n",
    "\n",
    "### Example Set Up\n",
    "\n",
    "In this example, we will use `stitches` to emulate CanESM5 SSP245 results. Then we will compare the\n",
    "`stitches` results with actual CMIP6 CanESM5 SSP245 output data.\n",
    "\n",
    "#### Decide on the archive data\n",
    "\n",
    "- Limit the archive matching data to the model we are trying to emulate, CanESM5 in this case.\n",
    "- In this example, we treat SSP245 as a novel scenario rather than one\n",
    "run by the ESM and available, so we exclude it from the archive data.\n",
    "- The internal package data called `matching_archive` contains the temperature results for all the ESMs-Scenarios-ensemble\n",
    "members that are available for `stitches` to use in its matching process. In this file monthly, tas output\n",
    "has been processed to mean temperature anomaly and the temperature change over a window of time. By default\n",
    "`stitches` uses a 9-year window."
   ]
  },
  {
   "cell_type": "code",
   "execution_count": null,
   "metadata": {
    "collapsed": false,
    "jupyter": {
     "outputs_hidden": false
    },
    "pycharm": {
     "name": "#%%\n"
    }
   },
   "outputs": [],
   "source": [
    "# read in the package data of all ESMs-Scenarios-ensemble members avail.\n",
    "data_directory = pkg_resources.resource_filename('stitches', \"data\")\n",
    "path = os.path.join(data_directory, 'matching_archive.csv')\n",
    "data = pd.read_csv(path)\n",
    "\n",
    "archive_data = data.loc[(data[\"experiment\"].isin(['ssp126',  'ssp370', 'ssp585'])) \n",
    "                       & (data[\"model\"] == \"CanESM5\")].copy()\n"
   ]
  },
  {
   "cell_type": "markdown",
   "metadata": {},
   "source": [
    "#### Modify Inputs - Decide on the target data\n",
    "\n",
    "- The primary input to `stitches` functions that most users will adjust is the target data.\n",
    "\n",
    "- The target data is the temperature pathway the stitched (emulated) product will follow. This data can come from an ESM or\n",
    "another class of climate models, for a specific SSP scenario or an arbitrarily defined scenario. Similarly to the archive\n",
    "data, the target data should contain the mean temperature anomaly and rate of temperature change over a window of time.\n",
    "The target data window and the archive window must be the same length, `stitches` uses a 9-year window by default.\n",
    "- In this example because we are demonstrating `stitches` ability to emulate CanESM5 SSP245, we will use CanESM5 SSP245\n",
    "results for a single ensemble member to use as our target data.\n"
   ]
  },
  {
   "cell_type": "code",
   "execution_count": null,
   "metadata": {
    "collapsed": false,
    "jupyter": {
     "outputs_hidden": false
    },
    "pycharm": {
     "name": "#%%\n"
    }
   },
   "outputs": [],
   "source": [
    "# Load time series and subset to target time series if needed:\n",
    "targ = pd.read_csv(os.path.join(data_directory, \"tas-data\", \"CanESM5_tas.csv\"))\n",
    "target_data = targ.loc[(targ[\"model\"] == \"CanESM5\")\n",
    "                       & (targ[\"experiment\"] == 'ssp245')].copy()\n",
    "\n",
    "target_data  = target_data[target_data[\"ensemble\"].isin(['r1i1p1f1'])].copy()\n",
    "\n",
    "target_data = target_data.drop(columns='zstore').reset_index(drop=True)\n"
   ]
  },
  {
   "cell_type": "markdown",
   "metadata": {
    "pycharm": {
     "name": "#%% md\n"
    }
   },
   "source": [
    "Take a look at the structure and a plot of the time series we will be targeting:"
   ]
  },
  {
   "cell_type": "code",
   "execution_count": null,
   "metadata": {
    "collapsed": false,
    "jupyter": {
     "outputs_hidden": false
    },
    "pycharm": {
     "name": "#%%\n"
    }
   },
   "outputs": [],
   "source": [
    "print(target_data.head())\n",
    "target_data.plot(x='year', y='value')\n",
    "plt.show()\n",
    "plt.close()\n"
   ]
  },
  {
   "cell_type": "markdown",
   "metadata": {},
   "source": [
    "- Any time series of global average temperature anomalies can be used as a\n",
    "target. However, the data frame containing this time series must be structured as\n",
    "above: a `variable` column containing entries of 'tas',  `year` and `value`\n",
    "columns containing the data, and `experiment`, `ensemble`, `model` columns\n",
    "with identifying information of the source of this target data.\n",
    "- The actual entries in the `experiment`, `ensemble`, `model` columns are only\n",
    "used for generating identifying strings for generated ensemble members.\n",
    "\n",
    "\n",
    "- In this demonstration, we will specifically be targeting ensemble member 1\n",
    "of the CanESM5 SSP245 simulations. The entire SSP245 ensemble may be\n",
    "jointly targeted by omitting the line\n",
    "`target_data  = target_data[target_data[\"ensemble\"].isin(['r1i1p1f1'])].copy()`"
   ]
  },
  {
   "cell_type": "markdown",
   "metadata": {},
   "source": [
    "#### Modify Inputs - Prepare target data for matching\n",
    "\n",
    "`stitches` includes functions that convert the above data frame of raw target\n",
    "data into correctly structured target data for matching."
   ]
  },
  {
   "cell_type": "code",
   "execution_count": null,
   "metadata": {
    "collapsed": false,
    "jupyter": {
     "outputs_hidden": false
    },
    "pycharm": {
     "name": "#%%\n"
    }
   },
   "outputs": [],
   "source": [
    "# First, smooth the target data\n",
    "target_data = stitches.fx_processing.calculate_rolling_mean(target_data,\n",
    "                                                            size=31).copy()\n",
    "target_data.plot(x='year', y='value')\n",
    "plt.show()\n",
    "plt.close()\n",
    "\n",
    "# then process so it can be matched on:\n",
    "target_data = stitches.fx_processing.get_chunk_info(\n",
    "    stitches.fx_processing.chunk_ts(df = target_data,  n=9)).copy()\n"
   ]
  },
  {
   "cell_type": "markdown",
   "metadata": {},
   "source": [
    "#### Use the target_data and archive_data to make the recipes using the function `make_recipe()`\n",
    "\n",
    "- We ask for 4 new realizations to be constructed, and we specify that\n",
    "the matching be limited to a `tol`  ($Z$ in the diagram) value of 0.06degC.\n",
    "- `tol` is the parameter that effectively controls both the maximum number\n",
    "of generated time series that may be constructed and the quality of matches.\n",
    "- For large values of `tol`, the matches constructed may be no good.\n",
    "Currently, the cutoff values of `tol` for each ESM are determined by post-hoc\n",
    "calculation, as described in the ESD paper.\n",
    "\n",
    "- we use the `reproducible` argument so that the results are reproducible. It is\n",
    "not required and can be set to `False` to have a random draw of generated recipes"
   ]
  },
  {
   "cell_type": "code",
   "execution_count": null,
   "metadata": {
    "collapsed": false,
    "jupyter": {
     "outputs_hidden": false
    },
    "pycharm": {
     "name": "#%%\n"
    }
   },
   "outputs": [],
   "source": [
    "my_recipes = stitches.make_recipe(target_data, \n",
    "                                  archive_data,\n",
    "                                  tol=0.06, \n",
    "                                  N_matches=4,\n",
    "                                  reproducible=True)\n"
   ]
  },
  {
   "cell_type": "markdown",
   "metadata": {},
   "source": [
    "\n",
    "\n",
    "Now use the recipe to get the global mean air temperature using `gmat_stitching`.\n",
    "The data frame returned by `gmat_stitching` will contain the final stitched product.\n"
   ]
  },
  {
   "cell_type": "code",
   "execution_count": null,
   "metadata": {
    "collapsed": false,
    "jupyter": {
     "outputs_hidden": false
    },
    "pycharm": {
     "name": "#%%\n"
    }
   },
   "outputs": [],
   "source": [
    "stitched_global_temp = stitches.gmat_stitching(my_recipes)\n"
   ]
  },
  {
   "cell_type": "markdown",
   "metadata": {},
   "source": [
    "#### Visualize Results\n"
   ]
  },
  {
   "cell_type": "code",
   "execution_count": null,
   "metadata": {
    "collapsed": false,
    "jupyter": {
     "outputs_hidden": false
    },
    "pycharm": {
     "name": "#%%\n"
    }
   },
   "outputs": [],
   "source": [
    "groups = stitched_global_temp.groupby('stitching_id')\n",
    "\n",
    "for name, group in groups:\n",
    "    plt.plot(group.year, group.value, label = name)\n",
    "    \n",
    "plt.xlabel(\"Year\")\n",
    "plt.ylabel(\"C\")\n",
    "plt.title(\"Stitched Global Mean Temperature\")\n",
    "plt.legend()\n",
    "plt.show()\n",
    "plt.close()\n"
   ]
  },
  {
   "cell_type": "markdown",
   "metadata": {},
   "source": [
    "#### Now let's compare the stitched products with the actual CanESM5 SSP245 data\n",
    "- The black curve is realization 1 - the ESM data that this notebook actually targeted.\n",
    "- The gray curves are the other archived realizations of SSP245 for CanESM5\n",
    "to illustrate that the generated ensemble members do not systematically\n",
    "depart from the actual ensemble behavior.\n",
    "- GSAT data is included as package data in `stitches` for convenience.\n"
   ]
  },
  {
   "cell_type": "code",
   "execution_count": null,
   "metadata": {
    "collapsed": false,
    "jupyter": {
     "outputs_hidden": false
    },
    "pycharm": {
     "name": "#%%\n"
    }
   },
   "outputs": [],
   "source": [
    "# Load the comparison GSAT data\n",
    "data_directory = pkg_resources.resource_filename(\"stitches\", \"data\")\n",
    "data_path = os.path.join(data_directory, \"tas-data\", \"CanESM5_tas.csv\")\n",
    "\n",
    "comp_data = pd.read_csv(data_path)\n",
    "comp_data = comp_data.loc[comp_data[\"experiment\"] == \"ssp245\"]\n"
   ]
  },
  {
   "cell_type": "code",
   "execution_count": null,
   "metadata": {
    "collapsed": false,
    "jupyter": {
     "outputs_hidden": false
    },
    "pycharm": {
     "name": "#%%\n"
    }
   },
   "outputs": [],
   "source": [
    "# full ensemble of actual ESM runs:\n",
    "groups = comp_data.groupby('ensemble')\n",
    "for name, group in groups:\n",
    "    if(group.ensemble.unique() == 'r1i1p1f1'):\n",
    "        plt.plot(group.year, group.value, color = \"black\", linewidth = 2.0)\n",
    "    else:\n",
    "        plt.plot(group.year, group.value, color = \"0.5\", alpha=0.5)\n",
    "\n",
    "# The stitched realizations:\n",
    "groups = stitched_global_temp.groupby('stitching_id')\n",
    "for name, group in groups:\n",
    "    plt.plot(group.year, group.value, linewidth= 1.0, label = name)\n",
    "\n",
    "plt.legend()\n",
    "plt.xlabel(\"Year\")\n",
    "plt.ylabel(\"C\")\n",
    "plt.title(\"Stitched Global Mean Temperature vs CanESM5 Results\")\n",
    "plt.show()\n",
    "plt.close()\n",
    "\n"
   ]
  },
  {
   "cell_type": "markdown",
   "metadata": {
    "pycharm": {
     "name": "#%% md\n"
    }
   },
   "source": [
    "## Example 2: stitching gridded products for multiple variables.\n",
    "\n",
    "With the basis of matching illustrated in the example 1, we highlight\n",
    "especially the structure of the \"recipes\" `stitches` creates:"
   ]
  },
  {
   "cell_type": "code",
   "execution_count": null,
   "metadata": {
    "collapsed": false,
    "jupyter": {
     "outputs_hidden": false
    },
    "pycharm": {
     "name": "#%%\n"
    }
   },
   "outputs": [],
   "source": [
    "print(my_recipes.iloc[0,])\n"
   ]
  },
  {
   "cell_type": "markdown",
   "metadata": {
    "pycharm": {
     "name": "#%% md\n"
    }
   },
   "source": [
    "The `tas_file` entry points to the specific CMIP6 netcdf file on pangeo that\n",
    "must be pulled for these years to create a gridded temperature product. To create\n",
    "a recipe that can produce a gridded product for multiple variables we will need to use\n",
    "`stitches.make_recipe()` with the argument `non_tas_variables` set to the additional\n",
    "variables of interest.\n"
   ]
  },
  {
   "cell_type": "markdown",
   "metadata": {
    "pycharm": {
     "name": "#%% md\n"
    }
   },
   "source": [
    "### Match and stitch\n",
    "\n",
    "As in example 1 set up the target and archive data. We will be using the same setup for CanESM5 ssp245.\n",
    "\n",
    "\n",
    "- Set the `non_tas_variables` = \"pr\" to indicate that the recipe should include precipitation results (see\n",
    "`help(stitches.make_recipe)` for more details on `non_tas_variables` ). Now the resulting recipe\n",
    "includes `tas_file` and `pr_file`columns that point to CMIP6 files for `tas` and `pr` monthly data on pangeo. These files\n",
    " will be pulled from pangeo and data for these years will be used to create the gridded data product.\n",
    "- Variables other than surface air temperature and precipitation may be\n",
    "considered.\n",
    "- In this example we will only generate a recipe for one new realization for expediency, but\n",
    "`N_matches` may be increased with no changes to the stitching calls below."
   ]
  },
  {
   "cell_type": "code",
   "execution_count": null,
   "metadata": {
    "collapsed": false,
    "jupyter": {
     "outputs_hidden": false
    },
    "pycharm": {
     "name": "#%%\n"
    }
   },
   "outputs": [],
   "source": [
    "my_recipes = stitches.make_recipe(target_data, \n",
    "                                  archive_data,\n",
    "                                  tol=0.06,\n",
    "                                  non_tas_variables=['pr'],\n",
    "                                  N_matches=1,\n",
    "                                  reproducible=True)\n"
   ]
  },
  {
   "cell_type": "markdown",
   "metadata": {
    "pycharm": {
     "name": "#%% md\n"
    }
   },
   "source": [
    "To stitch new realizations of the gridded data as netcdfs, use the\n",
    "function `gridded_stitching`. The results are saved in a\n",
    "user-specified directory. In this example, it is the same directory this notebook\n",
    "sits in.\n",
    "\n",
    "These netcdf files may then be read in and examined with `xarray` functions.\n",
    "\n",
    "For speed, this block is not executed by default in the quickstart. Instead, we have\n",
    "pre-built and uploaded these netcdfs for easy exploration."
   ]
  },
  {
   "cell_type": "markdown",
   "metadata": {
    "jupyter": {
     "outputs_hidden": false
    },
    "pycharm": {
     "name": "#%% md\n"
    }
   },
   "source": [
    "```\n",
    "stitches.gridded_stitching(out_dir='.',  rp=my_recipes)\n",
    "```"
   ]
  },
  {
   "cell_type": "markdown",
   "metadata": {
    "pycharm": {
     "name": "#%% md\n"
    }
   },
   "source": [
    "### Load generated data"
   ]
  },
  {
   "cell_type": "code",
   "execution_count": null,
   "metadata": {
    "collapsed": false,
    "jupyter": {
     "outputs_hidden": false
    },
    "pycharm": {
     "name": "#%%\n"
    }
   },
   "outputs": [],
   "source": [
    "# load the stitched (generated) temperature (tas) netcdf files\n",
    "gen_tas = stitches.fetch_quickstarter_data(variable=\"tas\")\n",
    "\n",
    "# load the stitched pr netcdf file\n",
    "gen_pr = stitches.fetch_quickstarter_data(variable=\"pr\")\n"
   ]
  },
  {
   "cell_type": "markdown",
   "metadata": {},
   "source": [
    "### Fetch target data from pangeo for comparison"
   ]
  },
  {
   "cell_type": "code",
   "execution_count": null,
   "metadata": {
    "collapsed": false,
    "jupyter": {
     "outputs_hidden": false
    },
    "pycharm": {
     "name": "#%%\n"
    }
   },
   "outputs": [],
   "source": [
    "# Fetch the actual data directly from pangeo\n",
    "data_directory = pkg_resources.resource_filename(\"stitches\", \"data\")\n",
    "pangeo_path = os.path.join(data_directory, \"pangeo_table.csv\")\n",
    "\n",
    "pangeo_data = pd.read_csv(pangeo_path)\n",
    "\n",
    "pangeo_data = pangeo_data.loc[(pangeo_data['variable'].isin(['tas', 'pr']))\n",
    "                              & (pangeo_data['domain'].str.contains('mon')) \n",
    "                              & (pangeo_data['experiment'].isin(['ssp245']))\n",
    "                              & (pangeo_data['ensemble'].isin(['r1i1p1f1']))\n",
    "                              & (pangeo_data['model'].isin(['CanESM5']))].copy()\n",
    "\n",
    "pangeo_data\n"
   ]
  },
  {
   "cell_type": "code",
   "execution_count": null,
   "metadata": {
    "collapsed": false,
    "jupyter": {
     "outputs_hidden": false
    },
    "pycharm": {
     "name": "#%%\n"
    }
   },
   "outputs": [],
   "source": [
    "# load the target tas netcdf files\n",
    "tas_address = pangeo_data.loc[pangeo_data['variable']== 'tas'].zstore.copy()\n",
    "tar_tas = stitches.fetch_nc(tas_address.values[0])\n",
    "\n",
    "# load the target pr netcdf files\n",
    "pr_address = pangeo_data.loc[pangeo_data['variable']== 'pr'].zstore.copy()\n",
    "tar_pr = stitches.fetch_nc(pr_address.values[0])\n"
   ]
  },
  {
   "cell_type": "markdown",
   "metadata": {
    "pycharm": {
     "name": "#%% md\n"
    }
   },
   "source": [
    "### Visualize\n",
    "\n",
    "Select a grid cell and plot the generated and target tas, pr data for first-cut comparison"
   ]
  },
  {
   "cell_type": "code",
   "execution_count": null,
   "metadata": {},
   "outputs": [],
   "source": [
    "def plot_comparison(generated_data, \n",
    "                    target_data,\n",
    "                    variable,\n",
    "                    alpha=0.8):\n",
    "    \"\"\"Plot comparision between target variable time series and generated data\"\"\"\n",
    "    \n",
    "    if variable.casefold() == \"pr\":\n",
    "        variable_name = \"precipitation\"\n",
    "        units = \"kg m-2 s-1\"\n",
    "    else:\n",
    "        variable_name = \"temperature\"\n",
    "        units = \"C\"\n",
    "        \n",
    "    # temperature (tas)\n",
    "    plt.plot(generated_data.time,\n",
    "             generated_data[variable],\n",
    "             label=f\"Generated monthly {variable}\")\n",
    "\n",
    "    with warnings.catch_warnings():\n",
    "        warnings.filterwarnings(\"ignore\")\n",
    "\n",
    "        plt.plot(target_data.indexes['time'].to_datetimeindex(),\n",
    "                 target_data[variable],\n",
    "                 alpha=alpha,\n",
    "                 label = f\"Target monthly {variable}\")\n",
    "\n",
    "    plt.legend()\n",
    "    plt.xlabel(\"Year\")\n",
    "    plt.ylabel(units)\n",
    "    plt.title(f\"Actual and generated monthly {variable_name} ({variable})\")\n",
    "    plt.show()\n",
    "    plt.close()\n"
   ]
  },
  {
   "cell_type": "code",
   "execution_count": null,
   "metadata": {
    "collapsed": false,
    "jupyter": {
     "outputs_hidden": false
    },
    "pycharm": {
     "name": "#%%\n"
    }
   },
   "outputs": [],
   "source": [
    "# lon and lat values for a grid cell near the Joint Global Change Research Institute in College Park, MD, USA\n",
    "cp_lat = 38.9897\n",
    "cp_lon = 180 + 76.9378\n",
    "\n",
    "# lat and lon coordinates closest\n",
    "abslat = np.abs(gen_tas.lat - cp_lat)\n",
    "abslon = np.abs(gen_tas.lon-cp_lon)\n",
    "c = np.maximum(abslon, abslat)\n",
    "([lon_loc], [lat_loc]) = np.where(c == np.min(c))\n",
    "lon_grid = gen_tas.lon[lon_loc]\n",
    "lat_grid = gen_tas.lat[lat_loc]\n",
    "\n",
    "cp_tas_gen = gen_tas.sel(lon=lon_grid, \n",
    "                         lat=lat_grid,\n",
    "                         time=slice('2015-01-01', '2099-12-31')).copy()\n",
    "\n",
    "cp_tas_tar = tar_tas.sel(lon=lon_grid, \n",
    "                         lat=lat_grid,\n",
    "                         time=slice('2015-01-01', '2099-12-31')).copy()\n",
    "\n",
    "cp_pr_gen = gen_pr.sel(lon=lon_grid, \n",
    "                       lat=lat_grid,\n",
    "                       time=slice('2015-01-01', '2099-12-31')).copy()\n",
    "\n",
    "cp_pr_tar = tar_pr.sel(lon=lon_grid, \n",
    "                       lat=lat_grid,\n",
    "                       time=slice('2015-01-01', '2099-12-31')).copy()\n",
    "\n",
    "# temperature (tas)\n",
    "plot_comparison(generated_data=cp_tas_gen,\n",
    "                target_data=cp_tas_tar,\n",
    "                variable=\"tas\")\n",
    "\n",
    "# precipitation (pr)\n",
    "plot_comparison(generated_data=cp_pr_gen,\n",
    "                target_data=cp_pr_tar,\n",
    "                variable=\"pr\")\n"
   ]
  },
  {
   "cell_type": "markdown",
   "metadata": {
    "pycharm": {
     "name": "#%% md\n"
    }
   },
   "source": [
    "Visual validation of the complex spatial, temporal, and cross-variable\n",
    "relationships present in ESM outputs is not possible. We extensively validate\n",
    "that the method reproduces ESM internal variability in the ESD paper, but this\n",
    "visual plotting at least suggests that nothing is obviously wrong.\n",
    "\n",
    "In other words, it's not inconceivable from these plots that the orange time\n",
    "series were sampled from the same underlying multivariate distribution that\n",
    "generated the blue time series."
   ]
  }
 ],
 "metadata": {
  "kernelspec": {
   "name": "pycharm-58c3bd78",
   "language": "python",
   "display_name": "PyCharm (python_curation)"
  },
  "language_info": {
   "codemirror_mode": {
    "name": "ipython",
    "version": 3
   },
   "file_extension": ".py",
   "mimetype": "text/x-python",
   "name": "python",
   "nbconvert_exporter": "python",
   "pygments_lexer": "ipython3",
   "version": "3.9.4"
  }
 },
 "nbformat": 4,
 "nbformat_minor": 4
}